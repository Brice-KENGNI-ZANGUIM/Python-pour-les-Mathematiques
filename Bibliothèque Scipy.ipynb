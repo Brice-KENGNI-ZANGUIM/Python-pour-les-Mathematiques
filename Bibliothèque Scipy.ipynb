{
 "cells": [
  {
   "cell_type": "markdown",
   "id": "79e6bea1-445e-47b2-b3d9-955bd93f8b27",
   "metadata": {
    "tags": []
   },
   "source": [
    "___\n",
    "### <center> <u> <h1> <strong> Utilisation de la bibliothèque SciPy </strong> </h1> </center>\n",
    "\n",
    "<h3>\n",
    "Dans ce notebook on verra comment utiliser la bibliothèque Scipy pour :\n",
    "    \n",
    "<ol>\n",
    "    <li> Gérer des problèmes d'optimisation </li>\n",
    "    <li> Interpoler des fonctions </li>\n",
    "    <li> Faire un calcul d'intégration numérique </li>\n",
    "    <li> Résoudre des équations différentielles </li>\n",
    "    <li> Réaliser des transformée Fourier </li>\n",
    "    <li> Resoudre des équation linéaires </li>\n",
    "    <li> Résoudre des problèmes destatistique </li>\n",
    "\n",
    "</ol>\n",
    "</h3>\n",
    "    \n",
    "---"
   ]
  },
  {
   "cell_type": "markdown",
   "id": "1d3875cc-7bce-44c7-ba67-de0f3580724c",
   "metadata": {},
   "source": [
    "<h1> <strong> A - Importation des modules necessaires"
   ]
  },
  {
   "cell_type": "code",
   "execution_count": null,
   "id": "f877f7e5-510a-45ce-adff-166ff8072dcd",
   "metadata": {},
   "outputs": [],
   "source": [
    "################################################################################\n",
    "##################  Bibliothèque utilitaire mathémlatiques  ####################\n",
    "################################################################################\n",
    "import numpy as np\n",
    "import scipy as sp\n",
    "################################################################################\n",
    "##################         Bibliothèque graphique           ####################\n",
    "################################################################################\n",
    "import matplotlib.pyplot as plt\n"
   ]
  },
  {
   "cell_type": "markdown",
   "id": "2f08770d-7951-4430-941d-2afff24ddc3c",
   "metadata": {},
   "source": [
    "<h1> <strong> B - Problème d'optimisation"
   ]
  },
  {
   "cell_type": "markdown",
   "id": "5da33050-88e1-4ef1-9ec9-d09a948db2f8",
   "metadata": {},
   "source": [
    "<h1> <strong> B.1 - Simple problème de minimisation"
   ]
  },
  {
   "cell_type": "markdown",
   "id": "771a1651-12ea-4a4e-94ad-e6a921e02594",
   "metadata": {},
   "source": [
    "<h3> <p> Supposons que nous soyons face à un problème dans lequel on a besoin e minimiser une grande donnée en Physique, Mahtémaque, Biologie . . </p>\n",
    "    <p> On peut par exemple être comptable dans une entreprise donnée et on souhaite trouver le Mois sur les 10 dernière années où le chiffre d'affaire de l'entreprise a été au plus bas. Par ailleurs supposons que ce chifffre d'affaire soit modélisé par la fonction \n",
    "\n",
    "$f(t) = (t-3)^{2.6} + 5(t-3)^{5} $ </p>\n",
    "    <p> Le problème se traduit donc à minimiser la fonction en question\n",
    "   "
   ]
  },
  {
   "cell_type": "code",
   "execution_count": null,
   "id": "1963646a-67a4-44e9-ab53-15a1c1a5b5b8",
   "metadata": {},
   "outputs": [],
   "source": [
    "def f( t ) :\n",
    "    return (t-3)**2.6 + 5*(t-3)**5"
   ]
  },
  {
   "cell_type": "markdown",
   "id": "3bc81a26-ed09-4827-a9c3-2086c63eacc4",
   "metadata": {},
   "source": [
    "<h3> Pour se faire, la bibliothèque Scipy offre la possibilité de minimiser des fonctions grâce àla méthode $minimize$ de son module $optimize$"
   ]
  },
  {
   "cell_type": "code",
   "execution_count": null,
   "id": "b85bf6f7-c8b1-47a0-8d8e-075cc55bb9a2",
   "metadata": {},
   "outputs": [],
   "source": [
    "from scipy.optimize import minimize"
   ]
  },
  {
   "cell_type": "markdown",
   "id": "8a7a0f2a-105a-43bd-b33b-22f135dc7992",
   "metadata": {},
   "source": [
    "<h3> La documentation de la fonction peut être parcourue"
   ]
  },
  {
   "cell_type": "code",
   "execution_count": null,
   "id": "31011d8b-27b0-46d8-b551-229eb74ebee2",
   "metadata": {
    "scrolled": true,
    "tags": []
   },
   "outputs": [],
   "source": [
    "minimize?"
   ]
  },
  {
   "cell_type": "markdown",
   "id": "2f5a963b-a1a1-43d2-b557-dacae2b4c5c4",
   "metadata": {},
   "source": [
    "<h3> Comme on peut le voir, pour trouver le minimum en  paramètres de base  il suffit de fournir à la fonction, l'indicatif de la fonction à minimiser et une valeur de départ."
   ]
  },
  {
   "cell_type": "code",
   "execution_count": null,
   "id": "3f7227aa-4d61-4963-9f89-b8fb84787a4f",
   "metadata": {},
   "outputs": [],
   "source": [
    "result = minimize( f , x0 = 3.1)"
   ]
  },
  {
   "cell_type": "code",
   "execution_count": null,
   "id": "b10d45d7-6766-4ebc-862c-e124b4dfa69e",
   "metadata": {},
   "outputs": [],
   "source": [
    "result"
   ]
  },
  {
   "cell_type": "code",
   "execution_count": null,
   "id": "db176b49-0569-411d-9f30-bf74f3ece208",
   "metadata": {},
   "outputs": [],
   "source": [
    "type(result)"
   ]
  },
  {
   "cell_type": "markdown",
   "id": "df26243d-06e0-492b-bc45-4b9b5ae1ba48",
   "metadata": {},
   "source": [
    "<h3> La fonction retourne alors un objet qui contient toutes les informations necessaires sur la réponse au problème de minimisation <ul>  \n",
    "    <li> $result.x$ donne la liste de valeurs de la fonction qui minimise cette dernière; résultat sous forme de list </li>\n",
    "    <li> $result.fun$ donne la valeur minimale de la question </li>\n",
    "    <li> $result.status$, $result.success$ et $result.message$ donnent des informations sur le statut de la requête de minimisation </li>\n",
    "    </ul>"
   ]
  },
  {
   "cell_type": "code",
   "execution_count": null,
   "id": "073d66e9-d17a-4ed0-960b-91ea76afafb0",
   "metadata": {},
   "outputs": [],
   "source": [
    "result.x[0]"
   ]
  },
  {
   "cell_type": "code",
   "execution_count": null,
   "id": "c6a11bd9-9782-4dd5-a17c-74ee8c7042c4",
   "metadata": {},
   "outputs": [],
   "source": [
    "result.fun"
   ]
  },
  {
   "cell_type": "code",
   "execution_count": null,
   "id": "7bca7cfa-5003-4d58-85ea-d395229a409d",
   "metadata": {},
   "outputs": [],
   "source": [
    "result.success"
   ]
  },
  {
   "cell_type": "code",
   "execution_count": null,
   "id": "c83426de-5969-46fc-81d1-52b6190ae55e",
   "metadata": {},
   "outputs": [],
   "source": [
    "result.status"
   ]
  },
  {
   "cell_type": "code",
   "execution_count": null,
   "id": "ed221e97-62b7-4da2-bfce-eff8b1e231c2",
   "metadata": {},
   "outputs": [],
   "source": [
    "result.message"
   ]
  },
  {
   "cell_type": "markdown",
   "id": "012b1b19-69d7-4db9-8f59-a0d4627fb91d",
   "metadata": {},
   "source": [
    "<h3> Comment on pouvait s'y attendre :<ul> \n",
    "    <li> La fonction est minimale pour une valeur proche de 3 </li>\n",
    "    <li> La valeur minimale de la fonction est proche de 0  </li>\n",
    "    </ul>"
   ]
  },
  {
   "cell_type": "markdown",
   "id": "f36eb34c-557e-494c-ad54-34e665175f82",
   "metadata": {},
   "source": [
    "<h1> <strong> B.1 - Problème de minimisation avec contraintes"
   ]
  },
  {
   "cell_type": "markdown",
   "id": "6c0cb1dc-b53d-4a0f-adab-f5a5ef62cdfe",
   "metadata": {},
   "source": [
    "<h3> <p>La même fonction pourrait être utilisée pour traiter un problème de minimisation imposant plusieurs contraintes sur les variables du problème.</p>\n",
    "    <p>  Imaginons à présent que le chiffre d'affaire de l'entreprise soit plutot perçu comme une fonction qui ne dépende pas uniquement du nombre de ses employés, de la qualité du service ou des produits qu'elle fourni à la société et de son budget marketing. </p>\n",
    "    <p>On notera $n$ le nombre d'enployé, $q$ la qualité du service ou des produits qu'elle fourni ou vend et $b$ son budget marketing </p>\n",
    "    <p> Supposons ensuite que son chiffre d'affaire soit modélisable par la fonction analytique suivante     \n",
    "    <p> $f(n, q, b) = 2.5n(b-60000-200q)^{2} - 2b(q-10+3n)^{2} +4b^{2}(7n-40-q)^{2} $ </p>\n",
    "    <p> La question se pose alors de savoir quelle est le chiffre d'affaire minimile que l'entreprise pourrait espérer avoir avec moins de 100 employés, un budget de  inférieur à 10000 € et avec une contrainte supplémentaire qui soit que\n",
    "\n",
    "$50np - b \\geq 0$\n",
    "    <p>  Toutes les contraintes du problèmes peuvent être resumées comme suit : </p>\n",
    "    \n",
    "$$100 - n \\geq 0$$\n",
    "$$10000 -b \\geq 0 $$\n",
    "$$50nq - b \\geq 0$$\n",
    "    <p>il faut aussi garder à l'esprit que $n$ et $b$ restent positifs et $q$ entre 0 et 100 </p>\n",
    "    \n",
    "$$n \\geq 0$$\n",
    "$$b \\geq 0$$\n",
    "$$0 \\leq q \\leq 100$$\n"
   ]
  },
  {
   "cell_type": "markdown",
   "id": "d65567d1-3a2e-4625-942a-09a4f3d37d5d",
   "metadata": {},
   "source": [
    "- ### <strong> La fonction chiffre d'affaire"
   ]
  },
  {
   "cell_type": "code",
   "execution_count": null,
   "id": "f955c880-f117-4386-aeba-d9f4cd92bf8a",
   "metadata": {},
   "outputs": [],
   "source": [
    "def f ( x ) :\n",
    "    n , q , b = x\n",
    "    return 2.5*n*( b - 60000 -200*q)**2 -2*b*( q - 10 +3*n )**2 + 4*(b**2)*( 7*n - 40 -q)**2"
   ]
  },
  {
   "cell_type": "markdown",
   "id": "74b524d2-e703-42d2-b052-0edc2a77b7a5",
   "metadata": {},
   "source": [
    "- ### <strong> Les valeurs autorisées aux variables"
   ]
  },
  {
   "cell_type": "code",
   "execution_count": null,
   "id": "04069c50-92de-4898-b016-bc0daa62ea10",
   "metadata": {},
   "outputs": [],
   "source": [
    "bornes = ((0, None), (0,20), (0, None))"
   ]
  },
  {
   "cell_type": "markdown",
   "id": "9313c8b9-83b4-460e-bdff-9db2621a0b96",
   "metadata": {},
   "source": [
    "- ### <strong> Les contraintes du problème"
   ]
  },
  {
   "cell_type": "code",
   "execution_count": null,
   "id": "4b1b39c0-f7bb-4f64-b64b-4504906508d3",
   "metadata": {},
   "outputs": [],
   "source": [
    "contraintes =(\n",
    "    {'type': 'ineq', 'fun': lambda x:  200 - x[0]  },\n",
    "    {'type': 'ineq', 'fun': lambda x:  10000 - x[2]},\n",
    "    {'type': 'ineq', 'fun': lambda x:  50*x[0]*x[1] - x[2]},\n",
    ")"
   ]
  },
  {
   "cell_type": "code",
   "execution_count": null,
   "id": "1d077a5b-273b-49ed-b89b-5f914d146f45",
   "metadata": {},
   "outputs": [],
   "source": [
    "resultat = minimize( f , (1 , 2 , 4000), constraints=contraintes, bounds=bornes, method = 'Powell')"
   ]
  },
  {
   "cell_type": "code",
   "execution_count": null,
   "id": "8712a591-2d8a-43a0-a401-2ba216abda3e",
   "metadata": {},
   "outputs": [],
   "source": [
    "resultat"
   ]
  },
  {
   "cell_type": "markdown",
   "id": "12e33cb7-2aad-43c3-abfa-6edff756253d",
   "metadata": {},
   "source": [
    "<h1> <strong> C - Problème d'interpolation"
   ]
  },
  {
   "cell_type": "markdown",
   "id": "f0f55b7e-b502-4a23-baa9-69e7075de2d0",
   "metadata": {},
   "source": [
    "<h3> <p> Supposeez qu'en tant que statisticien, physicien, biologisteou ingénieur vous ayez pour mission de mesure une grandeur physique données qui est censée évoluer avec le temps. Au bout de 30 jours vous avez pu reccueillir un échantillon de 20 mesures qui se présentent comme suit </p>"
   ]
  },
  {
   "cell_type": "code",
   "execution_count": null,
   "id": "bdcd9e28-0650-4e8c-ad99-afe5ac74c94b",
   "metadata": {
    "tags": []
   },
   "outputs": [],
   "source": [
    "t_min, t_max = 0 , 30\n",
    "N = 20\n",
    "\n",
    "\n",
    "def mesure ( t ) : \n",
    "    base = 6*np.cos(2*np.pi*t*6/(t_max-t_min))*t**3.3/(1+  2*t + +t**3)\n",
    "    bruit = np.random.rand(t.size) - np.random.rand(t.size)\n",
    "    \n",
    "    return base + bruit\n",
    "\n",
    "t_sample = np.linspace(t_min , t_max, N)\n",
    "y_sample = mesure ( t_sample)\n",
    "\n",
    "\n",
    "plt.figure(figsize = (7,5))\n",
    "plt.scatter(t_sample , y_sample, label= \"Mesures obtenues\")\n",
    "plt.xlabel(\"Temps (Jours)\")\n",
    "plt.ylabel(\"Mesure \")\n",
    "plt.legend(loc=\"upper left\")\n",
    "plt.show()"
   ]
  },
  {
   "cell_type": "markdown",
   "id": "21150e72-fdf5-4c24-b12f-46fcedaac7fa",
   "metadata": {},
   "source": [
    "<h3> <p> Votre objectif à présent est de pouvoir retrouver la courbe générale de la fonction qui permet de retrouver ces valeurs mesurées si possible dans le but de pouvoir prédire des valeurs intermédiaire que vous avez peu être manqué le vintième ou le sixième jour de votre mesure peu être parceque vous aviez oublié, ou vous avez effectué la mesure vous vous l'avez perdu entre temps. </p>\n",
    "    <p> Le module $interpolate$ de $scipy$ offre la fonction $interp1d$ qui permet de réaliser une telle tâche. </p>"
   ]
  },
  {
   "cell_type": "code",
   "execution_count": null,
   "id": "b4f3fb3d-91f4-48b7-9a99-9b4295946a4e",
   "metadata": {},
   "outputs": [],
   "source": [
    "from scipy.interpolate import interp1d"
   ]
  },
  {
   "cell_type": "code",
   "execution_count": null,
   "id": "93271f22-f095-4b6f-aa52-3105e32fc02d",
   "metadata": {
    "scrolled": true,
    "tags": []
   },
   "outputs": [],
   "source": [
    "interp1d?"
   ]
  },
  {
   "cell_type": "markdown",
   "id": "f56b3ed4-db83-44a6-bba3-7b0251794648",
   "metadata": {},
   "source": [
    "<h1> <strong> C.1 - Interpolation linéaire"
   ]
  },
  {
   "cell_type": "markdown",
   "id": "e7b175fb-d498-4c3c-b590-0d959d6ffaf8",
   "metadata": {},
   "source": [
    "<h3> Dans un premier temps on va réaliser une interpolation linéaire qui consiste à joindre deux points adjacents de la mesure par une droite"
   ]
  },
  {
   "cell_type": "code",
   "execution_count": null,
   "id": "09665338-9e8f-4718-a417-80b2182d455f",
   "metadata": {},
   "outputs": [],
   "source": [
    "t = np.linspace( t_min , t_max , 200)"
   ]
  },
  {
   "cell_type": "code",
   "execution_count": null,
   "id": "d36b60c2-3d1a-4798-bf5f-439948319309",
   "metadata": {},
   "outputs": [],
   "source": [
    "linear_interpolate = interp1d( t_sample, y_sample, kind='linear')\n",
    "y_linear = linear_interpolate( t )"
   ]
  },
  {
   "cell_type": "code",
   "execution_count": null,
   "id": "629d732c-e840-41a8-8c0c-ba46b43dd143",
   "metadata": {},
   "outputs": [],
   "source": [
    "plt.figure(figsize=(8,5))\n",
    "\n",
    "plt.scatter(t_sample , y_sample , label='mesures')\n",
    "plt.plot(t , y_linear , label = 'Lin interpol')\n",
    "\n",
    "plt.legend(loc=\"upper left\")\n",
    "plt.ylim(y_linear.min(), y_linear.max()+1)\n",
    "plt.xlim(t.min(), t.max()+5)\n",
    "plt.show()"
   ]
  },
  {
   "cell_type": "markdown",
   "id": "080e1285-bd70-4330-a023-1821908b2f53",
   "metadata": {},
   "source": [
    "<h3> Comme on peut le voir la forme de la courbe d'interpolation ne corresponds pas visuellement à ce qu'on pourrait considérer comme une fonction analytique car cette dernière est une fonction continues par morceauux qui est définie sur plusieurs sous domaines séparéments; d'où la necessité d'une méthode d'interpolation plus adaptée"
   ]
  },
  {
   "cell_type": "markdown",
   "id": "f9540d4e-eddc-463e-b19b-5cbc54968203",
   "metadata": {},
   "source": [
    "<h1> <strong> C.2 - Interpolation cubique"
   ]
  },
  {
   "cell_type": "code",
   "execution_count": null,
   "id": "57a1f3f7-a0a1-40a2-a081-7322996f8330",
   "metadata": {},
   "outputs": [],
   "source": [
    "cubic_interpolate = interp1d( t_sample, y_sample, kind='cubic')\n",
    "y_cubic = cubic_interpolate( t )"
   ]
  },
  {
   "cell_type": "code",
   "execution_count": null,
   "id": "f9cf17c1-0f02-479e-bee0-f68d4427320f",
   "metadata": {},
   "outputs": [],
   "source": [
    "plt.figure(figsize=(8,5))\n",
    "\n",
    "plt.scatter(t_sample , y_sample , label='mesures')\n",
    "plt.plot(t , y_cubic , label = 'cubic interpol')\n",
    "plt.plot(t , y_linear , label = 'Lin interpol')\n",
    "\n",
    "plt.legend(loc=\"upper left\")\n",
    "plt.ylim(y_cubic.min(), y_cubic.max()+2)\n",
    "plt.xlim(t.min(), t.max()+5)\n",
    "plt.show()"
   ]
  },
  {
   "cell_type": "markdown",
   "id": "b3634c41-0687-44f5-92c0-bdc8672a8e11",
   "metadata": {},
   "source": [
    "<h3> Avec une interpolation cubique on a une courbe qui est un peu plus lisse que celle avec une interpolation simplement linéaire. D'autres méthodes peuvent être utilisées"
   ]
  },
  {
   "cell_type": "markdown",
   "id": "440d8a04-d535-4ccf-8cca-50b59aa9be3c",
   "metadata": {},
   "source": [
    "<h1> <strong> C.3 - Interpolation quadratique"
   ]
  },
  {
   "cell_type": "code",
   "execution_count": null,
   "id": "da930486-7f06-4fbb-9146-217bbd43c3e6",
   "metadata": {},
   "outputs": [],
   "source": [
    "quad_interpolate = interp1d( t_sample, y_sample, kind='quadratic')\n",
    "y_quad = quad_interpolate( t )"
   ]
  },
  {
   "cell_type": "code",
   "execution_count": null,
   "id": "61f87f28-fb9c-440f-a606-6a097a0c3560",
   "metadata": {},
   "outputs": [],
   "source": [
    "plt.figure(figsize=(8,5))\n",
    "\n",
    "plt.scatter(t_sample , y_sample , label='mesures')\n",
    "plt.plot(t , y_cubic , label = 'cubic interpol')\n",
    "plt.plot(t , y_quad , label = 'quad interpol')\n",
    "\n",
    "plt.legend(loc=\"upper left\")\n",
    "plt.ylim(y_quad.min(), y_quad.max())\n",
    "plt.xlim(t.min(), t.max())\n",
    "plt.show()"
   ]
  },
  {
   "cell_type": "markdown",
   "id": "d19a9a45-99d6-448e-bcb3-df1005be52f5",
   "metadata": {},
   "source": [
    "<h3> On peut ainsi utiliser l'objet renvoyé par la méthde $interp1d$ pour obtenir des valeurs intermédiaires qu'on n'a pas pu mesurer dans la pratique"
   ]
  },
  {
   "cell_type": "code",
   "execution_count": null,
   "id": "4aeb47e9-1f01-4bdf-88f1-e8b6b9aae5f5",
   "metadata": {},
   "outputs": [],
   "source": [
    "t = 20"
   ]
  },
  {
   "cell_type": "code",
   "execution_count": null,
   "id": "6d037cfc-6ce0-4225-9fac-544649e6646f",
   "metadata": {},
   "outputs": [],
   "source": [
    "linear_interpolate(t)"
   ]
  },
  {
   "cell_type": "code",
   "execution_count": null,
   "id": "3f2a96ee-313b-4070-8229-54d7b78d6aae",
   "metadata": {},
   "outputs": [],
   "source": [
    "cubic_interpolate(t)"
   ]
  },
  {
   "cell_type": "code",
   "execution_count": null,
   "id": "68067c63-1f65-4956-83c9-ac389354b3e9",
   "metadata": {},
   "outputs": [],
   "source": [
    "quad_interpolate(t)"
   ]
  },
  {
   "cell_type": "markdown",
   "id": "8c02b78f-a8ad-4976-97f5-0dde8d5e3aa2",
   "metadata": {},
   "source": [
    "<h1> <strong> D - Problème de modélisation ( fitting )"
   ]
  },
  {
   "cell_type": "markdown",
   "id": "f41dcc7c-b91d-4f7a-a900-0e395c74b0a9",
   "metadata": {},
   "source": [
    "<h3> <p> La position du problème ici est la suivante : on est dans le même cas de figure que dans le problème d'interpolation mais l'object est de trouver l'expression analytique d'un fonction qui s'approche le plus possible de des valeurs discrète obtenues par expérience </p>"
   ]
  },
  {
   "cell_type": "code",
   "execution_count": null,
   "id": "8ecf85b4-2f12-45d0-bd60-e502784ca5b1",
   "metadata": {},
   "outputs": [],
   "source": []
  },
  {
   "cell_type": "code",
   "execution_count": null,
   "id": "8e39b13c-e7b3-4999-9553-1af4ca599ff5",
   "metadata": {},
   "outputs": [],
   "source": []
  },
  {
   "cell_type": "code",
   "execution_count": null,
   "id": "e41d75bd-8512-47e9-b0c8-4a60c9ff7f26",
   "metadata": {},
   "outputs": [],
   "source": []
  },
  {
   "cell_type": "code",
   "execution_count": null,
   "id": "80956f0a-03ae-404f-95ac-e5ab10c53dc0",
   "metadata": {},
   "outputs": [],
   "source": []
  },
  {
   "cell_type": "code",
   "execution_count": null,
   "id": "1ed679f5-6984-4370-9fe6-5532810fd8b3",
   "metadata": {},
   "outputs": [],
   "source": []
  },
  {
   "cell_type": "code",
   "execution_count": null,
   "id": "13661a49-d9af-4ba1-8b4a-3744d075a0e8",
   "metadata": {},
   "outputs": [],
   "source": []
  },
  {
   "cell_type": "code",
   "execution_count": null,
   "id": "0aea5b65-eb8e-4914-ac29-1f3f6280d000",
   "metadata": {},
   "outputs": [],
   "source": []
  },
  {
   "cell_type": "code",
   "execution_count": null,
   "id": "8ed3b4d0-1dcf-4cab-a9b1-2a7387a06947",
   "metadata": {},
   "outputs": [],
   "source": []
  },
  {
   "cell_type": "code",
   "execution_count": null,
   "id": "167fc97b-be7f-4a1d-90fe-9c39df18793d",
   "metadata": {},
   "outputs": [],
   "source": []
  },
  {
   "cell_type": "code",
   "execution_count": null,
   "id": "473b5563-8443-4df2-a752-db47dc8e0931",
   "metadata": {},
   "outputs": [],
   "source": []
  },
  {
   "cell_type": "code",
   "execution_count": null,
   "id": "b114a853-807c-43a2-9e7b-d2ae92265b69",
   "metadata": {},
   "outputs": [],
   "source": []
  },
  {
   "cell_type": "code",
   "execution_count": null,
   "id": "b024886f-ef65-4281-8b01-14a14e1d7a84",
   "metadata": {},
   "outputs": [],
   "source": []
  },
  {
   "cell_type": "code",
   "execution_count": null,
   "id": "02a0cbd6-ca11-4fe4-93ed-b27b8d9c5ebd",
   "metadata": {},
   "outputs": [],
   "source": []
  },
  {
   "cell_type": "code",
   "execution_count": null,
   "id": "1ec57747-356b-4619-ad00-6d46c212665f",
   "metadata": {},
   "outputs": [],
   "source": []
  },
  {
   "cell_type": "code",
   "execution_count": null,
   "id": "cc92fc1f-2acc-4ae2-bf53-4209a42e17ff",
   "metadata": {},
   "outputs": [],
   "source": []
  },
  {
   "cell_type": "code",
   "execution_count": null,
   "id": "8ad9c849-b60d-4b94-a360-9a9536b734d0",
   "metadata": {},
   "outputs": [],
   "source": []
  },
  {
   "cell_type": "code",
   "execution_count": null,
   "id": "eb838671-69b8-4b12-b884-d74f7eb73795",
   "metadata": {},
   "outputs": [],
   "source": []
  },
  {
   "cell_type": "code",
   "execution_count": null,
   "id": "085211bd-bb8e-4e1c-91c8-3366d4ead6c6",
   "metadata": {},
   "outputs": [],
   "source": []
  },
  {
   "cell_type": "code",
   "execution_count": null,
   "id": "23fe8acf-e8ec-4f3f-a31e-eabe3aec102b",
   "metadata": {},
   "outputs": [],
   "source": []
  },
  {
   "cell_type": "code",
   "execution_count": null,
   "id": "7002de18-465a-4034-bc34-120e117151d2",
   "metadata": {},
   "outputs": [],
   "source": []
  },
  {
   "cell_type": "markdown",
   "id": "2d58bda1-4af5-4c90-b732-63e62a18e3dc",
   "metadata": {},
   "source": [
    "---\n",
    "\n",
    "- ## <strong> Authors </strong>\n",
    "\n",
    " #### <ul> <p> - <strong><a href=\"https://www.linkedin.com/in/brice-kengni-zanguim/\" target=\"_blank\">Brice KENGNI ZANGUIM :</a> </strong></p> <ul> Artificial Intelligence Engeneer at home and holds a PhD in Nano-physic. His research focused on using <strong>Machine Learning, Deep Learning, Signal Processing, Natural langage Processing, Computer Vision and so one</strong> to figure out how the world behave and impact human cognition. Brice KENGNI ZANGUIM has been working at home on mastering his own AI projects in many domains while seeking for a position in a company. </ul></ul>\n",
    "\n",
    "\n",
    "---\n",
    "\n",
    "- ## <strong> Other Contributors </strong>\n",
    "\n",
    "#### <ul>None</ul>\n",
    "\n",
    "---\n",
    "\n",
    "- ## <strong> Change Log </strong>\n",
    "\n",
    "|  Date (DD-MM-YYYY) |  Version | Changed By  |  Change Description |  Purpose  |\n",
    "|---|---|---|---|---|\n",
    "| 19- 03 - 2023 | 1.0 | Brice KENGNI ZANGUIM | Updated the file | Mem,save |\n",
    "|-|-|-|-|\n",
    "|   |   |   |   |   |\n",
    "\n",
    "### <h3 align=\"center\"> © BKZ Corporation 2023. All rights reserved. <h3/>\n",
    "---"
   ]
  }
 ],
 "metadata": {
  "kernelspec": {
   "display_name": "Python 3 (ipykernel)",
   "language": "python",
   "name": "python3"
  },
  "language_info": {
   "codemirror_mode": {
    "name": "ipython",
    "version": 3
   },
   "file_extension": ".py",
   "mimetype": "text/x-python",
   "name": "python",
   "nbconvert_exporter": "python",
   "pygments_lexer": "ipython3",
   "version": "3.9.15"
  },
  "widgets": {
   "application/vnd.jupyter.widget-state+json": {
    "state": {},
    "version_major": 2,
    "version_minor": 0
   }
  }
 },
 "nbformat": 4,
 "nbformat_minor": 5
}
