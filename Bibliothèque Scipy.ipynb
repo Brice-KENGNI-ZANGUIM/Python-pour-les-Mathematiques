{
 "cells": [
  {
   "cell_type": "markdown",
   "id": "79e6bea1-445e-47b2-b3d9-955bd93f8b27",
   "metadata": {
    "tags": []
   },
   "source": [
    "___\n",
    "### <center> <u> <h1> <strong> Utilisation de la bibliothèque SciPy </strong> </h1> </center>\n",
    "\n",
    "<h3>\n",
    "Dans ce notebook on verra comment utiliser la bibliothèque Scipy pour :\n",
    "    \n",
    "<ol>\n",
    "    <li> Gérer des problèmes d'optimisation </li>\n",
    "    <li> Interpoler des fonctions </li>\n",
    "    <li> Faire un calcul d'intégration numérique </li>\n",
    "    <li> Résoudre des équations différentielles </li>\n",
    "    <li> Réaliser des transformée Fourier </li>\n",
    "    <li> Resoudre des équation linéaires </li>\n",
    "    <li> Résoudre des problèmes destatistique </li>\n",
    "\n",
    "</ol>\n",
    "</h3>\n",
    "    \n",
    "---"
   ]
  },
  {
   "cell_type": "markdown",
   "id": "1d3875cc-7bce-44c7-ba67-de0f3580724c",
   "metadata": {},
   "source": [
    "<h1> <strong> 1 - Importation des modules necessaires"
   ]
  },
  {
   "cell_type": "code",
   "execution_count": 1,
   "id": "f877f7e5-510a-45ce-adff-166ff8072dcd",
   "metadata": {},
   "outputs": [],
   "source": [
    "################################################################################\n",
    "##################  Bibliothèque utilitaire mathémlatiques  ####################\n",
    "################################################################################\n",
    "import numpy as np\n",
    "import scipy as sp\n",
    "################################################################################\n",
    "##################         Bibliothèque graphique           ####################\n",
    "################################################################################\n",
    "import matplotlib.pyplot as plt\n"
   ]
  },
  {
   "cell_type": "code",
   "execution_count": null,
   "id": "54a73a61-71a2-4d64-87c3-1bc51d84bba8",
   "metadata": {},
   "outputs": [],
   "source": []
  },
  {
   "cell_type": "code",
   "execution_count": null,
   "id": "b85bf6f7-c8b1-47a0-8d8e-075cc55bb9a2",
   "metadata": {},
   "outputs": [],
   "source": []
  },
  {
   "cell_type": "code",
   "execution_count": null,
   "id": "31011d8b-27b0-46d8-b551-229eb74ebee2",
   "metadata": {},
   "outputs": [],
   "source": []
  },
  {
   "cell_type": "markdown",
   "id": "2d58bda1-4af5-4c90-b732-63e62a18e3dc",
   "metadata": {},
   "source": [
    "---\n",
    "\n",
    "- ## <strong> Authors </strong>\n",
    "\n",
    " #### <ul> <p> - <strong><a href=\"https://www.linkedin.com/in/brice-kengni-zanguim/\" target=\"_blank\">Brice KENGNI ZANGUIM :</a> </strong></p> <ul> Artificial Intelligence Engeneer at home and holds a PhD in Nano-physic. His research focused on using <strong>Machine Learning, Deep Learning, Signal Processing, Natural langage Processing, Computer Vision and so one</strong> to figure out how the world behave and impact human cognition. Brice KENGNI ZANGUIM has been working at home on mastering his own AI projects in many domains while seeking for a position in a company. </ul></ul>\n",
    "\n",
    "\n",
    "---\n",
    "\n",
    "- ## <strong> Other Contributors </strong>\n",
    "\n",
    "#### <ul>None</ul>\n",
    "\n",
    "---\n",
    "\n",
    "- ## <strong> Change Log </strong>\n",
    "\n",
    "|  Date (DD-MM-YYYY) |  Version | Changed By  |  Change Description |  Purpose  |\n",
    "|---|---|---|---|---|\n",
    "| 19- 03 - 2023 | 1.0 | Brice KENGNI ZANGUIM | Updated the file | Mem,save |\n",
    "|-|-|-|-|\n",
    "|   |   |   |   |   |\n",
    "\n",
    "### <h3 align=\"center\"> © BKZ Corporation 2023. All rights reserved. <h3/>\n",
    "---"
   ]
  }
 ],
 "metadata": {
  "kernelspec": {
   "display_name": "Python 3 (ipykernel)",
   "language": "python",
   "name": "python3"
  },
  "language_info": {
   "codemirror_mode": {
    "name": "ipython",
    "version": 3
   },
   "file_extension": ".py",
   "mimetype": "text/x-python",
   "name": "python",
   "nbconvert_exporter": "python",
   "pygments_lexer": "ipython3",
   "version": "3.9.15"
  },
  "widgets": {
   "application/vnd.jupyter.widget-state+json": {
    "state": {},
    "version_major": 2,
    "version_minor": 0
   }
  }
 },
 "nbformat": 4,
 "nbformat_minor": 5
}
