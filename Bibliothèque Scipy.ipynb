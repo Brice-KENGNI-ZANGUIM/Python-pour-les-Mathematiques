{
 "cells": [
  {
   "cell_type": "markdown",
   "id": "79e6bea1-445e-47b2-b3d9-955bd93f8b27",
   "metadata": {
    "tags": []
   },
   "source": [
    "___\n",
    "### <center> <u> <h1> <strong> Utilisation de la bibliothèque SciPy </strong> </h1> </center>\n",
    "\n",
    "<h3>\n",
    "Dans ce notebook on verra comment utiliser la bibliothèque Scipy pour :\n",
    "    \n",
    "<ol>\n",
    "    <li> Gérer des problèmes d'optimisation </li>\n",
    "    <li> Interpoler des fonctions </li>\n",
    "    <li> Faire un calcul d'intégration numérique </li>\n",
    "    <li> Résoudre des équations différentielles </li>\n",
    "    <li> Réaliser des transformée Fourier </li>\n",
    "    <li> Resoudre des équation linéaires </li>\n",
    "    <li> Résoudre des problèmes destatistique </li>\n",
    "\n",
    "</ol>\n",
    "</h3>\n",
    "    \n",
    "---"
   ]
  },
  {
   "cell_type": "markdown",
   "id": "1d3875cc-7bce-44c7-ba67-de0f3580724c",
   "metadata": {},
   "source": [
    "<h1> <strong> A - Importation des modules necessaires"
   ]
  },
  {
   "cell_type": "code",
   "execution_count": 1,
   "id": "f877f7e5-510a-45ce-adff-166ff8072dcd",
   "metadata": {},
   "outputs": [],
   "source": [
    "################################################################################\n",
    "##################  Bibliothèque utilitaire mathémlatiques  ####################\n",
    "################################################################################\n",
    "import numpy as np\n",
    "import scipy as sp\n",
    "################################################################################\n",
    "##################         Bibliothèque graphique           ####################\n",
    "################################################################################\n",
    "import matplotlib.pyplot as plt\n"
   ]
  },
  {
   "cell_type": "markdown",
   "id": "2f08770d-7951-4430-941d-2afff24ddc3c",
   "metadata": {},
   "source": [
    "<h1> <strong> B - Problème d'optimisation"
   ]
  },
  {
   "cell_type": "markdown",
   "id": "5da33050-88e1-4ef1-9ec9-d09a948db2f8",
   "metadata": {},
   "source": [
    "<h1> <strong> B.1 - Simple problème de minimisation"
   ]
  },
  {
   "cell_type": "markdown",
   "id": "771a1651-12ea-4a4e-94ad-e6a921e02594",
   "metadata": {},
   "source": [
    "<h3> <p> Supposons que nous soyons face à un problème dans lequel on a besoin e minimiser une grande donnée en Physique, Mahtémaque, Biologie . . </p>\n",
    "    <p> On peut par exemple être comptable dans une entreprise donnée et on souhaite trouver le Mois sur les 10 dernière années où le chiffre d'affaire de l'entreprise a été au plus bas. Par ailleurs supposons que ce chifffre d'affaire soit modélisé par la fonction \n",
    "\n",
    "$f(t) = (t-3)^{2.6} + 5(t-3)^{5} $ </p>\n",
    "    <p> Le problème se traduit donc à minimiser la fonction en question\n",
    "   "
   ]
  },
  {
   "cell_type": "code",
   "execution_count": 2,
   "id": "1963646a-67a4-44e9-ab53-15a1c1a5b5b8",
   "metadata": {},
   "outputs": [],
   "source": [
    "def f( t ) :\n",
    "    return (t-3)**2.6 + 5*(t-3)**5"
   ]
  },
  {
   "cell_type": "markdown",
   "id": "3bc81a26-ed09-4827-a9c3-2086c63eacc4",
   "metadata": {},
   "source": [
    "<h3> Pour se faire, la bibliothèque Scipy offre la possibilité de minimiser des fonctions grâce àla méthode $minimize$ de son module $optimize$"
   ]
  },
  {
   "cell_type": "code",
   "execution_count": null,
   "id": "b85bf6f7-c8b1-47a0-8d8e-075cc55bb9a2",
   "metadata": {},
   "outputs": [],
   "source": [
    "from scipy.optimize import minimize"
   ]
  },
  {
   "cell_type": "markdown",
   "id": "8a7a0f2a-105a-43bd-b33b-22f135dc7992",
   "metadata": {},
   "source": [
    "<h3> La documentation de la fonction peut être parcourue"
   ]
  },
  {
   "cell_type": "code",
   "execution_count": null,
   "id": "31011d8b-27b0-46d8-b551-229eb74ebee2",
   "metadata": {
    "scrolled": true,
    "tags": []
   },
   "outputs": [],
   "source": [
    "minimize?"
   ]
  },
  {
   "cell_type": "markdown",
   "id": "2f5a963b-a1a1-43d2-b557-dacae2b4c5c4",
   "metadata": {},
   "source": [
    "<h3> Comme on peut le voir, pour trouver le minimum en  paramètres de base  il suffit de fournir à la fonction, l'indicatif de la fonction à minimiser et une valeur de départ."
   ]
  },
  {
   "cell_type": "code",
   "execution_count": null,
   "id": "3f7227aa-4d61-4963-9f89-b8fb84787a4f",
   "metadata": {},
   "outputs": [],
   "source": [
    "result = minimize( f , x0 = 3.1)"
   ]
  },
  {
   "cell_type": "code",
   "execution_count": null,
   "id": "b10d45d7-6766-4ebc-862c-e124b4dfa69e",
   "metadata": {},
   "outputs": [],
   "source": [
    "result"
   ]
  },
  {
   "cell_type": "code",
   "execution_count": null,
   "id": "db176b49-0569-411d-9f30-bf74f3ece208",
   "metadata": {},
   "outputs": [],
   "source": [
    "type(result)"
   ]
  },
  {
   "cell_type": "markdown",
   "id": "df26243d-06e0-492b-bc45-4b9b5ae1ba48",
   "metadata": {},
   "source": [
    "<h3> La fonction retourne alors un objet qui contient toutes les informations necessaires sur la réponse au problème de minimisation <ul>  \n",
    "    <li> $result.x$ donne la liste de valeurs de la fonction qui minimise cette dernière; résultat sous forme de list </li>\n",
    "    <li> $result.fun$ donne la valeur minimale de la question </li>\n",
    "    <li> $result.status$, $result.success$ et $result.message$ donnent des informations sur le statut de la requête de minimisation </li>\n",
    "    </ul>"
   ]
  },
  {
   "cell_type": "code",
   "execution_count": null,
   "id": "073d66e9-d17a-4ed0-960b-91ea76afafb0",
   "metadata": {},
   "outputs": [],
   "source": [
    "result.x[0]"
   ]
  },
  {
   "cell_type": "code",
   "execution_count": null,
   "id": "c6a11bd9-9782-4dd5-a17c-74ee8c7042c4",
   "metadata": {},
   "outputs": [],
   "source": [
    "result.fun"
   ]
  },
  {
   "cell_type": "code",
   "execution_count": null,
   "id": "7bca7cfa-5003-4d58-85ea-d395229a409d",
   "metadata": {},
   "outputs": [],
   "source": [
    "result.success"
   ]
  },
  {
   "cell_type": "code",
   "execution_count": null,
   "id": "c83426de-5969-46fc-81d1-52b6190ae55e",
   "metadata": {},
   "outputs": [],
   "source": [
    "result.status"
   ]
  },
  {
   "cell_type": "code",
   "execution_count": null,
   "id": "ed221e97-62b7-4da2-bfce-eff8b1e231c2",
   "metadata": {},
   "outputs": [],
   "source": [
    "result.message"
   ]
  },
  {
   "cell_type": "markdown",
   "id": "012b1b19-69d7-4db9-8f59-a0d4627fb91d",
   "metadata": {},
   "source": [
    "<h3> Comment on pouvait s'y attendre :<ul> \n",
    "    <li> La fonction est minimale pour une valeur proche de 3 </li>\n",
    "    <li> La valeur minimale de la fonction est proche de 0  </li>\n",
    "    </ul>"
   ]
  },
  {
   "cell_type": "markdown",
   "id": "f36eb34c-557e-494c-ad54-34e665175f82",
   "metadata": {},
   "source": [
    "<h1> <strong> B.1 - Problème de minimisation avec contraintes"
   ]
  },
  {
   "cell_type": "markdown",
   "id": "6c0cb1dc-b53d-4a0f-adab-f5a5ef62cdfe",
   "metadata": {},
   "source": [
    "<h3> <p>La même fonction pourrait être utilisée pour traiter un problème de minimisation imposant plusieurs contraintes sur les variables du problème.</p>\n",
    "    <p>  Imaginons à présent que le chiffre d'affaire de l'entreprise soit plutot perçu comme une fonction qui ne dépende pas uniquement du nombre de ses employés, de la qualité du service ou des produits qu'elle fourni à la société et de son budget marketing. </p>\n",
    "    <p>On notera $n$ le nombre d'enployé, $q$ la qualité du service ou des produits qu'elle fourni ou vend et $b$ son budget marketing </p>\n",
    "    <p> Supposons ensuite que son chiffre d'affaire soit modélisable par la fonction analytique suivante     \n",
    "    <p> $f(n, q, b) = 10nq + 5(2b - 150q)^{4} + (b - 7qn^{2})^{6}$ </p>\n",
    "    <p> La question se pose alors de savoir quelle est le chiffre d'affaire minimile que l'entreprise pourrait espérer avoir avec moins de 10 employés, un budget de  inférieur à 10000 € et avec une contrainte supplémentaire qui soit que\n",
    "\n",
    "$50np - b \\geq 0$"
   ]
  },
  {
   "cell_type": "markdown",
   "id": "d65567d1-3a2e-4625-942a-09a4f3d37d5d",
   "metadata": {},
   "source": [
    "- ### <strong> La fonction chiffre d'affaire"
   ]
  },
  {
   "cell_type": "code",
   "execution_count": null,
   "id": "f955c880-f117-4386-aeba-d9f4cd92bf8a",
   "metadata": {},
   "outputs": [],
   "source": [
    "def f ( n , q , b) :\n",
    "    return 10*n*q + 5*(2*b - 150*q)**4 + (b-7*q*n**2)**6"
   ]
  },
  {
   "cell_type": "markdown",
   "id": "9313c8b9-83b4-460e-bdff-9db2621a0b96",
   "metadata": {},
   "source": [
    "- ### <strong> Les contraintes du problème"
   ]
  },
  {
   "cell_type": "code",
   "execution_count": null,
   "id": "6f7fa33b-fb87-4b4f-86a0-61dbf1302f7e",
   "metadata": {},
   "outputs": [],
   "source": []
  },
  {
   "cell_type": "markdown",
   "id": "74b524d2-e703-42d2-b052-0edc2a77b7a5",
   "metadata": {},
   "source": [
    "- ### <strong> Les valeurs autorisées aux variables"
   ]
  },
  {
   "cell_type": "code",
   "execution_count": null,
   "id": "4b1b39c0-f7bb-4f64-b64b-4504906508d3",
   "metadata": {},
   "outputs": [],
   "source": []
  },
  {
   "cell_type": "code",
   "execution_count": null,
   "id": "1d077a5b-273b-49ed-b89b-5f914d146f45",
   "metadata": {},
   "outputs": [],
   "source": []
  },
  {
   "cell_type": "code",
   "execution_count": null,
   "id": "8712a591-2d8a-43a0-a401-2ba216abda3e",
   "metadata": {},
   "outputs": [],
   "source": []
  },
  {
   "cell_type": "code",
   "execution_count": null,
   "id": "b3ca7f2c-0091-4955-bd11-32f8e71a2c8c",
   "metadata": {},
   "outputs": [],
   "source": []
  },
  {
   "cell_type": "code",
   "execution_count": null,
   "id": "23fe8acf-e8ec-4f3f-a31e-eabe3aec102b",
   "metadata": {},
   "outputs": [],
   "source": []
  },
  {
   "cell_type": "code",
   "execution_count": null,
   "id": "7002de18-465a-4034-bc34-120e117151d2",
   "metadata": {},
   "outputs": [],
   "source": []
  },
  {
   "cell_type": "markdown",
   "id": "2d58bda1-4af5-4c90-b732-63e62a18e3dc",
   "metadata": {},
   "source": [
    "---\n",
    "\n",
    "- ## <strong> Authors </strong>\n",
    "\n",
    " #### <ul> <p> - <strong><a href=\"https://www.linkedin.com/in/brice-kengni-zanguim/\" target=\"_blank\">Brice KENGNI ZANGUIM :</a> </strong></p> <ul> Artificial Intelligence Engeneer at home and holds a PhD in Nano-physic. His research focused on using <strong>Machine Learning, Deep Learning, Signal Processing, Natural langage Processing, Computer Vision and so one</strong> to figure out how the world behave and impact human cognition. Brice KENGNI ZANGUIM has been working at home on mastering his own AI projects in many domains while seeking for a position in a company. </ul></ul>\n",
    "\n",
    "\n",
    "---\n",
    "\n",
    "- ## <strong> Other Contributors </strong>\n",
    "\n",
    "#### <ul>None</ul>\n",
    "\n",
    "---\n",
    "\n",
    "- ## <strong> Change Log </strong>\n",
    "\n",
    "|  Date (DD-MM-YYYY) |  Version | Changed By  |  Change Description |  Purpose  |\n",
    "|---|---|---|---|---|\n",
    "| 19- 03 - 2023 | 1.0 | Brice KENGNI ZANGUIM | Updated the file | Mem,save |\n",
    "|-|-|-|-|\n",
    "|   |   |   |   |   |\n",
    "\n",
    "### <h3 align=\"center\"> © BKZ Corporation 2023. All rights reserved. <h3/>\n",
    "---"
   ]
  }
 ],
 "metadata": {
  "kernelspec": {
   "display_name": "Python 3 (ipykernel)",
   "language": "python",
   "name": "python3"
  },
  "language_info": {
   "codemirror_mode": {
    "name": "ipython",
    "version": 3
   },
   "file_extension": ".py",
   "mimetype": "text/x-python",
   "name": "python",
   "nbconvert_exporter": "python",
   "pygments_lexer": "ipython3",
   "version": "3.9.15"
  },
  "widgets": {
   "application/vnd.jupyter.widget-state+json": {
    "state": {},
    "version_major": 2,
    "version_minor": 0
   }
  }
 },
 "nbformat": 4,
 "nbformat_minor": 5
}
