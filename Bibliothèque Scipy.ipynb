{
 "cells": [
  {
   "cell_type": "markdown",
   "id": "79e6bea1-445e-47b2-b3d9-955bd93f8b27",
   "metadata": {
    "tags": []
   },
   "source": [
    "___\n",
    "### <center> <u> <h1> <strong> Utilisation de la bibliothèque SciPy </strong> </h1> </center>\n",
    "\n",
    "<h3>\n",
    "Dans ce notebook on verra comment utiliser la bibliothèque Scipy pour :\n",
    "    \n",
    "<ol>\n",
    "    <li> Gérer des problèmes d'optimisation </li>\n",
    "    <li> Interpoler des fonctions </li>\n",
    "    <li> Faire un calcul d'intégration numérique </li>\n",
    "    <li> Résoudre des équations différentielles </li>\n",
    "    <li> Réaliser des transformée Fourier </li>\n",
    "    <li> Resoudre des équation linéaires </li>\n",
    "    <li> Résoudre des problèmes destatistique </li>\n",
    "\n",
    "</ol>\n",
    "</h3>\n",
    "    \n",
    "---"
   ]
  },
  {
   "cell_type": "markdown",
   "id": "1d3875cc-7bce-44c7-ba67-de0f3580724c",
   "metadata": {},
   "source": [
    "<h1> <strong> A - Importation des modules necessaires"
   ]
  },
  {
   "cell_type": "code",
   "execution_count": 1,
   "id": "f877f7e5-510a-45ce-adff-166ff8072dcd",
   "metadata": {},
   "outputs": [],
   "source": [
    "################################################################################\n",
    "##################  Bibliothèque utilitaire mathémlatiques  ####################\n",
    "################################################################################\n",
    "import numpy as np\n",
    "import scipy as sp\n",
    "################################################################################\n",
    "##################         Bibliothèque graphique           ####################\n",
    "################################################################################\n",
    "import matplotlib.pyplot as plt\n"
   ]
  },
  {
   "cell_type": "markdown",
   "id": "2f08770d-7951-4430-941d-2afff24ddc3c",
   "metadata": {},
   "source": [
    "<h1> <strong> B - Problème d'optimisation"
   ]
  },
  {
   "cell_type": "markdown",
   "id": "5da33050-88e1-4ef1-9ec9-d09a948db2f8",
   "metadata": {},
   "source": [
    "<h1> <strong> B.1 - Simple problème de minimisation"
   ]
  },
  {
   "cell_type": "markdown",
   "id": "771a1651-12ea-4a4e-94ad-e6a921e02594",
   "metadata": {},
   "source": [
    "<h3> <p> Supposons que nous soyons face à un problème dans lequel on a besoin e minimiser une grande donnée en Physique, Mahtémaque, Biologie . . </p>\n",
    "    <p> On peut par exemple être comptable dans une entreprise donnée et on souhaite trouver le Mois sur les 10 dernière années où le chiffre d'affaire de l'entreprise a été au plus bas. Par ailleurs supposons que ce chifffre d'affaire soit modélisé par la fonction \n",
    "\n",
    "$f(t) = (t-3)^{2.6} + 5(t-3)^{5} $ </p>\n",
    "    <p> Le problème se traduit donc à minimiser la fonction en question\n",
    "   "
   ]
  },
  {
   "cell_type": "code",
   "execution_count": 2,
   "id": "1963646a-67a4-44e9-ab53-15a1c1a5b5b8",
   "metadata": {},
   "outputs": [],
   "source": [
    "def f( t ) :\n",
    "    return (t-3)**2.6 + 5*(t-3)**5"
   ]
  },
  {
   "cell_type": "markdown",
   "id": "3bc81a26-ed09-4827-a9c3-2086c63eacc4",
   "metadata": {},
   "source": [
    "<h3> Pour se faire, la bibliothèque Scipy offre la possibilité de minimiser des fonctions grâce àla méthode $minimize$ de son module $optimize$"
   ]
  },
  {
   "cell_type": "code",
   "execution_count": 3,
   "id": "b85bf6f7-c8b1-47a0-8d8e-075cc55bb9a2",
   "metadata": {},
   "outputs": [],
   "source": [
    "from scipy.optimize import minimize"
   ]
  },
  {
   "cell_type": "markdown",
   "id": "8a7a0f2a-105a-43bd-b33b-22f135dc7992",
   "metadata": {},
   "source": [
    "<h3> La documentation de la fonction peut être parcourue"
   ]
  },
  {
   "cell_type": "code",
   "execution_count": 4,
   "id": "31011d8b-27b0-46d8-b551-229eb74ebee2",
   "metadata": {
    "scrolled": true,
    "tags": []
   },
   "outputs": [
    {
     "data": {
      "text/plain": [
       "\u001b[0;31mSignature:\u001b[0m\n",
       "\u001b[0mminimize\u001b[0m\u001b[0;34m(\u001b[0m\u001b[0;34m\u001b[0m\n",
       "\u001b[0;34m\u001b[0m    \u001b[0mfun\u001b[0m\u001b[0;34m,\u001b[0m\u001b[0;34m\u001b[0m\n",
       "\u001b[0;34m\u001b[0m    \u001b[0mx0\u001b[0m\u001b[0;34m,\u001b[0m\u001b[0;34m\u001b[0m\n",
       "\u001b[0;34m\u001b[0m    \u001b[0margs\u001b[0m\u001b[0;34m=\u001b[0m\u001b[0;34m(\u001b[0m\u001b[0;34m)\u001b[0m\u001b[0;34m,\u001b[0m\u001b[0;34m\u001b[0m\n",
       "\u001b[0;34m\u001b[0m    \u001b[0mmethod\u001b[0m\u001b[0;34m=\u001b[0m\u001b[0;32mNone\u001b[0m\u001b[0;34m,\u001b[0m\u001b[0;34m\u001b[0m\n",
       "\u001b[0;34m\u001b[0m    \u001b[0mjac\u001b[0m\u001b[0;34m=\u001b[0m\u001b[0;32mNone\u001b[0m\u001b[0;34m,\u001b[0m\u001b[0;34m\u001b[0m\n",
       "\u001b[0;34m\u001b[0m    \u001b[0mhess\u001b[0m\u001b[0;34m=\u001b[0m\u001b[0;32mNone\u001b[0m\u001b[0;34m,\u001b[0m\u001b[0;34m\u001b[0m\n",
       "\u001b[0;34m\u001b[0m    \u001b[0mhessp\u001b[0m\u001b[0;34m=\u001b[0m\u001b[0;32mNone\u001b[0m\u001b[0;34m,\u001b[0m\u001b[0;34m\u001b[0m\n",
       "\u001b[0;34m\u001b[0m    \u001b[0mbounds\u001b[0m\u001b[0;34m=\u001b[0m\u001b[0;32mNone\u001b[0m\u001b[0;34m,\u001b[0m\u001b[0;34m\u001b[0m\n",
       "\u001b[0;34m\u001b[0m    \u001b[0mconstraints\u001b[0m\u001b[0;34m=\u001b[0m\u001b[0;34m(\u001b[0m\u001b[0;34m)\u001b[0m\u001b[0;34m,\u001b[0m\u001b[0;34m\u001b[0m\n",
       "\u001b[0;34m\u001b[0m    \u001b[0mtol\u001b[0m\u001b[0;34m=\u001b[0m\u001b[0;32mNone\u001b[0m\u001b[0;34m,\u001b[0m\u001b[0;34m\u001b[0m\n",
       "\u001b[0;34m\u001b[0m    \u001b[0mcallback\u001b[0m\u001b[0;34m=\u001b[0m\u001b[0;32mNone\u001b[0m\u001b[0;34m,\u001b[0m\u001b[0;34m\u001b[0m\n",
       "\u001b[0;34m\u001b[0m    \u001b[0moptions\u001b[0m\u001b[0;34m=\u001b[0m\u001b[0;32mNone\u001b[0m\u001b[0;34m,\u001b[0m\u001b[0;34m\u001b[0m\n",
       "\u001b[0;34m\u001b[0m\u001b[0;34m)\u001b[0m\u001b[0;34m\u001b[0m\u001b[0;34m\u001b[0m\u001b[0m\n",
       "\u001b[0;31mDocstring:\u001b[0m\n",
       "Minimization of scalar function of one or more variables.\n",
       "\n",
       "Parameters\n",
       "----------\n",
       "fun : callable\n",
       "    The objective function to be minimized.\n",
       "\n",
       "        ``fun(x, *args) -> float``\n",
       "\n",
       "    where ``x`` is an 1-D array with shape (n,) and ``args``\n",
       "    is a tuple of the fixed parameters needed to completely\n",
       "    specify the function.\n",
       "x0 : ndarray, shape (n,)\n",
       "    Initial guess. Array of real elements of size (n,),\n",
       "    where 'n' is the number of independent variables.\n",
       "args : tuple, optional\n",
       "    Extra arguments passed to the objective function and its\n",
       "    derivatives (`fun`, `jac` and `hess` functions).\n",
       "method : str or callable, optional\n",
       "    Type of solver.  Should be one of\n",
       "\n",
       "        - 'Nelder-Mead' :ref:`(see here) <optimize.minimize-neldermead>`\n",
       "        - 'Powell'      :ref:`(see here) <optimize.minimize-powell>`\n",
       "        - 'CG'          :ref:`(see here) <optimize.minimize-cg>`\n",
       "        - 'BFGS'        :ref:`(see here) <optimize.minimize-bfgs>`\n",
       "        - 'Newton-CG'   :ref:`(see here) <optimize.minimize-newtoncg>`\n",
       "        - 'L-BFGS-B'    :ref:`(see here) <optimize.minimize-lbfgsb>`\n",
       "        - 'TNC'         :ref:`(see here) <optimize.minimize-tnc>`\n",
       "        - 'COBYLA'      :ref:`(see here) <optimize.minimize-cobyla>`\n",
       "        - 'SLSQP'       :ref:`(see here) <optimize.minimize-slsqp>`\n",
       "        - 'trust-constr':ref:`(see here) <optimize.minimize-trustconstr>`\n",
       "        - 'dogleg'      :ref:`(see here) <optimize.minimize-dogleg>`\n",
       "        - 'trust-ncg'   :ref:`(see here) <optimize.minimize-trustncg>`\n",
       "        - 'trust-exact' :ref:`(see here) <optimize.minimize-trustexact>`\n",
       "        - 'trust-krylov' :ref:`(see here) <optimize.minimize-trustkrylov>`\n",
       "        - custom - a callable object (added in version 0.14.0),\n",
       "          see below for description.\n",
       "\n",
       "    If not given, chosen to be one of ``BFGS``, ``L-BFGS-B``, ``SLSQP``,\n",
       "    depending if the problem has constraints or bounds.\n",
       "jac : {callable,  '2-point', '3-point', 'cs', bool}, optional\n",
       "    Method for computing the gradient vector. Only for CG, BFGS,\n",
       "    Newton-CG, L-BFGS-B, TNC, SLSQP, dogleg, trust-ncg, trust-krylov,\n",
       "    trust-exact and trust-constr.\n",
       "    If it is a callable, it should be a function that returns the gradient\n",
       "    vector:\n",
       "\n",
       "        ``jac(x, *args) -> array_like, shape (n,)``\n",
       "\n",
       "    where ``x`` is an array with shape (n,) and ``args`` is a tuple with\n",
       "    the fixed parameters. If `jac` is a Boolean and is True, `fun` is\n",
       "    assumed to return a tuple ``(f, g)`` containing the objective\n",
       "    function and the gradient.\n",
       "    Methods 'Newton-CG', 'trust-ncg', 'dogleg', 'trust-exact', and\n",
       "    'trust-krylov' require that either a callable be supplied, or that\n",
       "    `fun` return the objective and gradient.\n",
       "    If None or False, the gradient will be estimated using 2-point finite\n",
       "    difference estimation with an absolute step size.\n",
       "    Alternatively, the keywords  {'2-point', '3-point', 'cs'} can be used\n",
       "    to select a finite difference scheme for numerical estimation of the\n",
       "    gradient with a relative step size. These finite difference schemes\n",
       "    obey any specified `bounds`.\n",
       "hess : {callable, '2-point', '3-point', 'cs', HessianUpdateStrategy}, optional\n",
       "    Method for computing the Hessian matrix. Only for Newton-CG, dogleg,\n",
       "    trust-ncg, trust-krylov, trust-exact and trust-constr. If it is\n",
       "    callable, it should return the Hessian matrix:\n",
       "\n",
       "        ``hess(x, *args) -> {LinearOperator, spmatrix, array}, (n, n)``\n",
       "\n",
       "    where x is a (n,) ndarray and `args` is a tuple with the fixed\n",
       "    parameters. LinearOperator and sparse matrix returns are only allowed\n",
       "    for 'trust-constr' method. Alternatively, the keywords\n",
       "    {'2-point', '3-point', 'cs'} select a finite difference scheme\n",
       "    for numerical estimation. Or, objects implementing the\n",
       "    `HessianUpdateStrategy` interface can be used to approximate\n",
       "    the Hessian. Available quasi-Newton methods implementing\n",
       "    this interface are:\n",
       "\n",
       "        - `BFGS`;\n",
       "        - `SR1`.\n",
       "\n",
       "    Whenever the gradient is estimated via finite-differences,\n",
       "    the Hessian cannot be estimated with options\n",
       "    {'2-point', '3-point', 'cs'} and needs to be\n",
       "    estimated using one of the quasi-Newton strategies.\n",
       "    'trust-exact' cannot use a finite-difference scheme, and must be used\n",
       "    with a callable returning an (n, n) array.\n",
       "hessp : callable, optional\n",
       "    Hessian of objective function times an arbitrary vector p. Only for\n",
       "    Newton-CG, trust-ncg, trust-krylov, trust-constr.\n",
       "    Only one of `hessp` or `hess` needs to be given.  If `hess` is\n",
       "    provided, then `hessp` will be ignored.  `hessp` must compute the\n",
       "    Hessian times an arbitrary vector:\n",
       "\n",
       "        ``hessp(x, p, *args) ->  ndarray shape (n,)``\n",
       "\n",
       "    where x is a (n,) ndarray, p is an arbitrary vector with\n",
       "    dimension (n,) and `args` is a tuple with the fixed\n",
       "    parameters.\n",
       "bounds : sequence or `Bounds`, optional\n",
       "    Bounds on variables for Nelder-Mead, L-BFGS-B, TNC, SLSQP, Powell, and\n",
       "    trust-constr methods. There are two ways to specify the bounds:\n",
       "\n",
       "        1. Instance of `Bounds` class.\n",
       "        2. Sequence of ``(min, max)`` pairs for each element in `x`. None\n",
       "           is used to specify no bound.\n",
       "\n",
       "constraints : {Constraint, dict} or List of {Constraint, dict}, optional\n",
       "    Constraints definition (only for COBYLA, SLSQP and trust-constr).\n",
       "\n",
       "    Constraints for 'trust-constr' are defined as a single object or a\n",
       "    list of objects specifying constraints to the optimization problem.\n",
       "    Available constraints are:\n",
       "\n",
       "        - `LinearConstraint`\n",
       "        - `NonlinearConstraint`\n",
       "\n",
       "    Constraints for COBYLA, SLSQP are defined as a list of dictionaries.\n",
       "    Each dictionary with fields:\n",
       "\n",
       "        type : str\n",
       "            Constraint type: 'eq' for equality, 'ineq' for inequality.\n",
       "        fun : callable\n",
       "            The function defining the constraint.\n",
       "        jac : callable, optional\n",
       "            The Jacobian of `fun` (only for SLSQP).\n",
       "        args : sequence, optional\n",
       "            Extra arguments to be passed to the function and Jacobian.\n",
       "\n",
       "    Equality constraint means that the constraint function result is to\n",
       "    be zero whereas inequality means that it is to be non-negative.\n",
       "    Note that COBYLA only supports inequality constraints.\n",
       "tol : float, optional\n",
       "    Tolerance for termination. When `tol` is specified, the selected\n",
       "    minimization algorithm sets some relevant solver-specific tolerance(s)\n",
       "    equal to `tol`. For detailed control, use solver-specific\n",
       "    options.\n",
       "options : dict, optional\n",
       "    A dictionary of solver options. All methods accept the following\n",
       "    generic options:\n",
       "\n",
       "        maxiter : int\n",
       "            Maximum number of iterations to perform. Depending on the\n",
       "            method each iteration may use several function evaluations.\n",
       "        disp : bool\n",
       "            Set to True to print convergence messages.\n",
       "\n",
       "    For method-specific options, see :func:`show_options()`.\n",
       "callback : callable, optional\n",
       "    Called after each iteration. For 'trust-constr' it is a callable with\n",
       "    the signature:\n",
       "\n",
       "        ``callback(xk, OptimizeResult state) -> bool``\n",
       "\n",
       "    where ``xk`` is the current parameter vector. and ``state``\n",
       "    is an `OptimizeResult` object, with the same fields\n",
       "    as the ones from the return. If callback returns True\n",
       "    the algorithm execution is terminated.\n",
       "    For all the other methods, the signature is:\n",
       "\n",
       "        ``callback(xk)``\n",
       "\n",
       "    where ``xk`` is the current parameter vector.\n",
       "\n",
       "Returns\n",
       "-------\n",
       "res : OptimizeResult\n",
       "    The optimization result represented as a ``OptimizeResult`` object.\n",
       "    Important attributes are: ``x`` the solution array, ``success`` a\n",
       "    Boolean flag indicating if the optimizer exited successfully and\n",
       "    ``message`` which describes the cause of the termination. See\n",
       "    `OptimizeResult` for a description of other attributes.\n",
       "\n",
       "See also\n",
       "--------\n",
       "minimize_scalar : Interface to minimization algorithms for scalar\n",
       "    univariate functions\n",
       "show_options : Additional options accepted by the solvers\n",
       "\n",
       "Notes\n",
       "-----\n",
       "This section describes the available solvers that can be selected by the\n",
       "'method' parameter. The default method is *BFGS*.\n",
       "\n",
       "**Unconstrained minimization**\n",
       "\n",
       "Method :ref:`CG <optimize.minimize-cg>` uses a nonlinear conjugate\n",
       "gradient algorithm by Polak and Ribiere, a variant of the\n",
       "Fletcher-Reeves method described in [5]_ pp.120-122. Only the\n",
       "first derivatives are used.\n",
       "\n",
       "Method :ref:`BFGS <optimize.minimize-bfgs>` uses the quasi-Newton\n",
       "method of Broyden, Fletcher, Goldfarb, and Shanno (BFGS) [5]_\n",
       "pp. 136. It uses the first derivatives only. BFGS has proven good\n",
       "performance even for non-smooth optimizations. This method also\n",
       "returns an approximation of the Hessian inverse, stored as\n",
       "`hess_inv` in the OptimizeResult object.\n",
       "\n",
       "Method :ref:`Newton-CG <optimize.minimize-newtoncg>` uses a\n",
       "Newton-CG algorithm [5]_ pp. 168 (also known as the truncated\n",
       "Newton method). It uses a CG method to the compute the search\n",
       "direction. See also *TNC* method for a box-constrained\n",
       "minimization with a similar algorithm. Suitable for large-scale\n",
       "problems.\n",
       "\n",
       "Method :ref:`dogleg <optimize.minimize-dogleg>` uses the dog-leg\n",
       "trust-region algorithm [5]_ for unconstrained minimization. This\n",
       "algorithm requires the gradient and Hessian; furthermore the\n",
       "Hessian is required to be positive definite.\n",
       "\n",
       "Method :ref:`trust-ncg <optimize.minimize-trustncg>` uses the\n",
       "Newton conjugate gradient trust-region algorithm [5]_ for\n",
       "unconstrained minimization. This algorithm requires the gradient\n",
       "and either the Hessian or a function that computes the product of\n",
       "the Hessian with a given vector. Suitable for large-scale problems.\n",
       "\n",
       "Method :ref:`trust-krylov <optimize.minimize-trustkrylov>` uses\n",
       "the Newton GLTR trust-region algorithm [14]_, [15]_ for unconstrained\n",
       "minimization. This algorithm requires the gradient\n",
       "and either the Hessian or a function that computes the product of\n",
       "the Hessian with a given vector. Suitable for large-scale problems.\n",
       "On indefinite problems it requires usually less iterations than the\n",
       "`trust-ncg` method and is recommended for medium and large-scale problems.\n",
       "\n",
       "Method :ref:`trust-exact <optimize.minimize-trustexact>`\n",
       "is a trust-region method for unconstrained minimization in which\n",
       "quadratic subproblems are solved almost exactly [13]_. This\n",
       "algorithm requires the gradient and the Hessian (which is\n",
       "*not* required to be positive definite). It is, in many\n",
       "situations, the Newton method to converge in fewer iteraction\n",
       "and the most recommended for small and medium-size problems.\n",
       "\n",
       "**Bound-Constrained minimization**\n",
       "\n",
       "Method :ref:`Nelder-Mead <optimize.minimize-neldermead>` uses the\n",
       "Simplex algorithm [1]_, [2]_. This algorithm is robust in many\n",
       "applications. However, if numerical computation of derivative can be\n",
       "trusted, other algorithms using the first and/or second derivatives\n",
       "information might be preferred for their better performance in\n",
       "general.\n",
       "\n",
       "Method :ref:`L-BFGS-B <optimize.minimize-lbfgsb>` uses the L-BFGS-B\n",
       "algorithm [6]_, [7]_ for bound constrained minimization.\n",
       "\n",
       "Method :ref:`Powell <optimize.minimize-powell>` is a modification\n",
       "of Powell's method [3]_, [4]_ which is a conjugate direction\n",
       "method. It performs sequential one-dimensional minimizations along\n",
       "each vector of the directions set (`direc` field in `options` and\n",
       "`info`), which is updated at each iteration of the main\n",
       "minimization loop. The function need not be differentiable, and no\n",
       "derivatives are taken. If bounds are not provided, then an\n",
       "unbounded line search will be used. If bounds are provided and\n",
       "the initial guess is within the bounds, then every function\n",
       "evaluation throughout the minimization procedure will be within\n",
       "the bounds. If bounds are provided, the initial guess is outside\n",
       "the bounds, and `direc` is full rank (default has full rank), then\n",
       "some function evaluations during the first iteration may be\n",
       "outside the bounds, but every function evaluation after the first\n",
       "iteration will be within the bounds. If `direc` is not full rank,\n",
       "then some parameters may not be optimized and the solution is not\n",
       "guaranteed to be within the bounds.\n",
       "\n",
       "Method :ref:`TNC <optimize.minimize-tnc>` uses a truncated Newton\n",
       "algorithm [5]_, [8]_ to minimize a function with variables subject\n",
       "to bounds. This algorithm uses gradient information; it is also\n",
       "called Newton Conjugate-Gradient. It differs from the *Newton-CG*\n",
       "method described above as it wraps a C implementation and allows\n",
       "each variable to be given upper and lower bounds.\n",
       "\n",
       "**Constrained Minimization**\n",
       "\n",
       "Method :ref:`COBYLA <optimize.minimize-cobyla>` uses the\n",
       "Constrained Optimization BY Linear Approximation (COBYLA) method\n",
       "[9]_, [10]_, [11]_. The algorithm is based on linear\n",
       "approximations to the objective function and each constraint. The\n",
       "method wraps a FORTRAN implementation of the algorithm. The\n",
       "constraints functions 'fun' may return either a single number\n",
       "or an array or list of numbers.\n",
       "\n",
       "Method :ref:`SLSQP <optimize.minimize-slsqp>` uses Sequential\n",
       "Least SQuares Programming to minimize a function of several\n",
       "variables with any combination of bounds, equality and inequality\n",
       "constraints. The method wraps the SLSQP Optimization subroutine\n",
       "originally implemented by Dieter Kraft [12]_. Note that the\n",
       "wrapper handles infinite values in bounds by converting them into\n",
       "large floating values.\n",
       "\n",
       "Method :ref:`trust-constr <optimize.minimize-trustconstr>` is a\n",
       "trust-region algorithm for constrained optimization. It swiches\n",
       "between two implementations depending on the problem definition.\n",
       "It is the most versatile constrained minimization algorithm\n",
       "implemented in SciPy and the most appropriate for large-scale problems.\n",
       "For equality constrained problems it is an implementation of Byrd-Omojokun\n",
       "Trust-Region SQP method described in [17]_ and in [5]_, p. 549. When\n",
       "inequality constraints  are imposed as well, it swiches to the trust-region\n",
       "interior point  method described in [16]_. This interior point algorithm,\n",
       "in turn, solves inequality constraints by introducing slack variables\n",
       "and solving a sequence of equality-constrained barrier problems\n",
       "for progressively smaller values of the barrier parameter.\n",
       "The previously described equality constrained SQP method is\n",
       "used to solve the subproblems with increasing levels of accuracy\n",
       "as the iterate gets closer to a solution.\n",
       "\n",
       "**Finite-Difference Options**\n",
       "\n",
       "For Method :ref:`trust-constr <optimize.minimize-trustconstr>`\n",
       "the gradient and the Hessian may be approximated using\n",
       "three finite-difference schemes: {'2-point', '3-point', 'cs'}.\n",
       "The scheme 'cs' is, potentially, the most accurate but it\n",
       "requires the function to correctly handles complex inputs and to\n",
       "be differentiable in the complex plane. The scheme '3-point' is more\n",
       "accurate than '2-point' but requires twice as many operations.\n",
       "\n",
       "**Custom minimizers**\n",
       "\n",
       "It may be useful to pass a custom minimization method, for example\n",
       "when using a frontend to this method such as `scipy.optimize.basinhopping`\n",
       "or a different library.  You can simply pass a callable as the ``method``\n",
       "parameter.\n",
       "\n",
       "The callable is called as ``method(fun, x0, args, **kwargs, **options)``\n",
       "where ``kwargs`` corresponds to any other parameters passed to `minimize`\n",
       "(such as `callback`, `hess`, etc.), except the `options` dict, which has\n",
       "its contents also passed as `method` parameters pair by pair.  Also, if\n",
       "`jac` has been passed as a bool type, `jac` and `fun` are mangled so that\n",
       "`fun` returns just the function values and `jac` is converted to a function\n",
       "returning the Jacobian.  The method shall return an `OptimizeResult`\n",
       "object.\n",
       "\n",
       "The provided `method` callable must be able to accept (and possibly ignore)\n",
       "arbitrary parameters; the set of parameters accepted by `minimize` may\n",
       "expand in future versions and then these parameters will be passed to\n",
       "the method.  You can find an example in the scipy.optimize tutorial.\n",
       "\n",
       ".. versionadded:: 0.11.0\n",
       "\n",
       "References\n",
       "----------\n",
       ".. [1] Nelder, J A, and R Mead. 1965. A Simplex Method for Function\n",
       "    Minimization. The Computer Journal 7: 308-13.\n",
       ".. [2] Wright M H. 1996. Direct search methods: Once scorned, now\n",
       "    respectable, in Numerical Analysis 1995: Proceedings of the 1995\n",
       "    Dundee Biennial Conference in Numerical Analysis (Eds. D F\n",
       "    Griffiths and G A Watson). Addison Wesley Longman, Harlow, UK.\n",
       "    191-208.\n",
       ".. [3] Powell, M J D. 1964. An efficient method for finding the minimum of\n",
       "   a function of several variables without calculating derivatives. The\n",
       "   Computer Journal 7: 155-162.\n",
       ".. [4] Press W, S A Teukolsky, W T Vetterling and B P Flannery.\n",
       "   Numerical Recipes (any edition), Cambridge University Press.\n",
       ".. [5] Nocedal, J, and S J Wright. 2006. Numerical Optimization.\n",
       "   Springer New York.\n",
       ".. [6] Byrd, R H and P Lu and J. Nocedal. 1995. A Limited Memory\n",
       "   Algorithm for Bound Constrained Optimization. SIAM Journal on\n",
       "   Scientific and Statistical Computing 16 (5): 1190-1208.\n",
       ".. [7] Zhu, C and R H Byrd and J Nocedal. 1997. L-BFGS-B: Algorithm\n",
       "   778: L-BFGS-B, FORTRAN routines for large scale bound constrained\n",
       "   optimization. ACM Transactions on Mathematical Software 23 (4):\n",
       "   550-560.\n",
       ".. [8] Nash, S G. Newton-Type Minimization Via the Lanczos Method.\n",
       "   1984. SIAM Journal of Numerical Analysis 21: 770-778.\n",
       ".. [9] Powell, M J D. A direct search optimization method that models\n",
       "   the objective and constraint functions by linear interpolation.\n",
       "   1994. Advances in Optimization and Numerical Analysis, eds. S. Gomez\n",
       "   and J-P Hennart, Kluwer Academic (Dordrecht), 51-67.\n",
       ".. [10] Powell M J D. Direct search algorithms for optimization\n",
       "   calculations. 1998. Acta Numerica 7: 287-336.\n",
       ".. [11] Powell M J D. A view of algorithms for optimization without\n",
       "   derivatives. 2007.Cambridge University Technical Report DAMTP\n",
       "   2007/NA03\n",
       ".. [12] Kraft, D. A software package for sequential quadratic\n",
       "   programming. 1988. Tech. Rep. DFVLR-FB 88-28, DLR German Aerospace\n",
       "   Center -- Institute for Flight Mechanics, Koln, Germany.\n",
       ".. [13] Conn, A. R., Gould, N. I., and Toint, P. L.\n",
       "   Trust region methods. 2000. Siam. pp. 169-200.\n",
       ".. [14] F. Lenders, C. Kirches, A. Potschka: \"trlib: A vector-free\n",
       "   implementation of the GLTR method for iterative solution of\n",
       "   the trust region problem\", :arxiv:`1611.04718`\n",
       ".. [15] N. Gould, S. Lucidi, M. Roma, P. Toint: \"Solving the\n",
       "   Trust-Region Subproblem using the Lanczos Method\",\n",
       "   SIAM J. Optim., 9(2), 504--525, (1999).\n",
       ".. [16] Byrd, Richard H., Mary E. Hribar, and Jorge Nocedal. 1999.\n",
       "    An interior point algorithm for large-scale nonlinear  programming.\n",
       "    SIAM Journal on Optimization 9.4: 877-900.\n",
       ".. [17] Lalee, Marucha, Jorge Nocedal, and Todd Plantega. 1998. On the\n",
       "    implementation of an algorithm for large-scale equality constrained\n",
       "    optimization. SIAM Journal on Optimization 8.3: 682-706.\n",
       "\n",
       "Examples\n",
       "--------\n",
       "Let us consider the problem of minimizing the Rosenbrock function. This\n",
       "function (and its respective derivatives) is implemented in `rosen`\n",
       "(resp. `rosen_der`, `rosen_hess`) in the `scipy.optimize`.\n",
       "\n",
       ">>> from scipy.optimize import minimize, rosen, rosen_der\n",
       "\n",
       "A simple application of the *Nelder-Mead* method is:\n",
       "\n",
       ">>> x0 = [1.3, 0.7, 0.8, 1.9, 1.2]\n",
       ">>> res = minimize(rosen, x0, method='Nelder-Mead', tol=1e-6)\n",
       ">>> res.x\n",
       "array([ 1.,  1.,  1.,  1.,  1.])\n",
       "\n",
       "Now using the *BFGS* algorithm, using the first derivative and a few\n",
       "options:\n",
       "\n",
       ">>> res = minimize(rosen, x0, method='BFGS', jac=rosen_der,\n",
       "...                options={'gtol': 1e-6, 'disp': True})\n",
       "Optimization terminated successfully.\n",
       "         Current function value: 0.000000\n",
       "         Iterations: 26\n",
       "         Function evaluations: 31\n",
       "         Gradient evaluations: 31\n",
       ">>> res.x\n",
       "array([ 1.,  1.,  1.,  1.,  1.])\n",
       ">>> print(res.message)\n",
       "Optimization terminated successfully.\n",
       ">>> res.hess_inv\n",
       "array([[ 0.00749589,  0.01255155,  0.02396251,  0.04750988,  0.09495377],  # may vary\n",
       "       [ 0.01255155,  0.02510441,  0.04794055,  0.09502834,  0.18996269],\n",
       "       [ 0.02396251,  0.04794055,  0.09631614,  0.19092151,  0.38165151],\n",
       "       [ 0.04750988,  0.09502834,  0.19092151,  0.38341252,  0.7664427 ],\n",
       "       [ 0.09495377,  0.18996269,  0.38165151,  0.7664427,   1.53713523]])\n",
       "\n",
       "\n",
       "Next, consider a minimization problem with several constraints (namely\n",
       "Example 16.4 from [5]_). The objective function is:\n",
       "\n",
       ">>> fun = lambda x: (x[0] - 1)**2 + (x[1] - 2.5)**2\n",
       "\n",
       "There are three constraints defined as:\n",
       "\n",
       ">>> cons = ({'type': 'ineq', 'fun': lambda x:  x[0] - 2 * x[1] + 2},\n",
       "...         {'type': 'ineq', 'fun': lambda x: -x[0] - 2 * x[1] + 6},\n",
       "...         {'type': 'ineq', 'fun': lambda x: -x[0] + 2 * x[1] + 2})\n",
       "\n",
       "And variables must be positive, hence the following bounds:\n",
       "\n",
       ">>> bnds = ((0, None), (0, None))\n",
       "\n",
       "The optimization problem is solved using the SLSQP method as:\n",
       "\n",
       ">>> res = minimize(fun, (2, 0), method='SLSQP', bounds=bnds,\n",
       "...                constraints=cons)\n",
       "\n",
       "It should converge to the theoretical solution (1.4 ,1.7).\n",
       "\u001b[0;31mFile:\u001b[0m      ~/anaconda3/envs/Fast_API/lib/python3.9/site-packages/scipy/optimize/_minimize.py\n",
       "\u001b[0;31mType:\u001b[0m      function\n"
      ]
     },
     "metadata": {},
     "output_type": "display_data"
    }
   ],
   "source": [
    "minimize?"
   ]
  },
  {
   "cell_type": "markdown",
   "id": "2f5a963b-a1a1-43d2-b557-dacae2b4c5c4",
   "metadata": {},
   "source": [
    "<h3> Comme on peut le voir, pour trouver le minimum en  paramètres de base  il suffit de fournir à la fonction, l'indicatif de la fonction à minimiser et une valeur de départ."
   ]
  },
  {
   "cell_type": "code",
   "execution_count": 5,
   "id": "3f7227aa-4d61-4963-9f89-b8fb84787a4f",
   "metadata": {},
   "outputs": [],
   "source": [
    "result = minimize( f , x0 = 3.1)"
   ]
  },
  {
   "cell_type": "code",
   "execution_count": 6,
   "id": "b10d45d7-6766-4ebc-862c-e124b4dfa69e",
   "metadata": {},
   "outputs": [
    {
     "data": {
      "text/plain": [
       "      fun: 7.579096494079156e-10\n",
       " hess_inv: array([[16.06892249]])\n",
       "      jac: array([6.34522333e-06])\n",
       "  message: 'Optimization terminated successfully.'\n",
       "     nfev: 18\n",
       "      nit: 8\n",
       "     njev: 9\n",
       "   status: 0\n",
       "  success: True\n",
       "        x: array([3.00031057])"
      ]
     },
     "execution_count": 6,
     "metadata": {},
     "output_type": "execute_result"
    }
   ],
   "source": [
    "result"
   ]
  },
  {
   "cell_type": "code",
   "execution_count": 7,
   "id": "db176b49-0569-411d-9f30-bf74f3ece208",
   "metadata": {},
   "outputs": [
    {
     "data": {
      "text/plain": [
       "scipy.optimize.optimize.OptimizeResult"
      ]
     },
     "execution_count": 7,
     "metadata": {},
     "output_type": "execute_result"
    }
   ],
   "source": [
    "type(result)"
   ]
  },
  {
   "cell_type": "markdown",
   "id": "df26243d-06e0-492b-bc45-4b9b5ae1ba48",
   "metadata": {},
   "source": [
    "<h3> La fonction retourne alors un objet qui contient toutes les informations necessaires sur la réponse au problème de minimisation <ul>  \n",
    "    <li> $result.x$ donne la liste de valeurs de la fonction qui minimise cette dernière; résultat sous forme de list </li>\n",
    "    <li> $result.fun$ donne la valeur minimale de la question </li>\n",
    "    <li> $result.status$, $result.success$ et $result.message$ donnent des informations sur le statut de la requête de minimisation </li>\n",
    "    </ul>"
   ]
  },
  {
   "cell_type": "code",
   "execution_count": 8,
   "id": "073d66e9-d17a-4ed0-960b-91ea76afafb0",
   "metadata": {},
   "outputs": [
    {
     "data": {
      "text/plain": [
       "3.000310570748874"
      ]
     },
     "execution_count": 8,
     "metadata": {},
     "output_type": "execute_result"
    }
   ],
   "source": [
    "result.x[0]"
   ]
  },
  {
   "cell_type": "code",
   "execution_count": 9,
   "id": "c6a11bd9-9782-4dd5-a17c-74ee8c7042c4",
   "metadata": {},
   "outputs": [
    {
     "data": {
      "text/plain": [
       "7.579096494079156e-10"
      ]
     },
     "execution_count": 9,
     "metadata": {},
     "output_type": "execute_result"
    }
   ],
   "source": [
    "result.fun"
   ]
  },
  {
   "cell_type": "code",
   "execution_count": 10,
   "id": "7bca7cfa-5003-4d58-85ea-d395229a409d",
   "metadata": {},
   "outputs": [
    {
     "data": {
      "text/plain": [
       "True"
      ]
     },
     "execution_count": 10,
     "metadata": {},
     "output_type": "execute_result"
    }
   ],
   "source": [
    "result.success"
   ]
  },
  {
   "cell_type": "code",
   "execution_count": 11,
   "id": "c83426de-5969-46fc-81d1-52b6190ae55e",
   "metadata": {},
   "outputs": [
    {
     "data": {
      "text/plain": [
       "0"
      ]
     },
     "execution_count": 11,
     "metadata": {},
     "output_type": "execute_result"
    }
   ],
   "source": [
    "result.status"
   ]
  },
  {
   "cell_type": "code",
   "execution_count": 12,
   "id": "ed221e97-62b7-4da2-bfce-eff8b1e231c2",
   "metadata": {},
   "outputs": [
    {
     "data": {
      "text/plain": [
       "'Optimization terminated successfully.'"
      ]
     },
     "execution_count": 12,
     "metadata": {},
     "output_type": "execute_result"
    }
   ],
   "source": [
    "result.message"
   ]
  },
  {
   "cell_type": "markdown",
   "id": "012b1b19-69d7-4db9-8f59-a0d4627fb91d",
   "metadata": {},
   "source": [
    "<h3> Comment on pouvait s'y attendre :<ul> \n",
    "    <li> La fonction est minimale pour une valeur proche de 3 </li>\n",
    "    <li> La valeur minimale de la fonction est proche de 0  </li>\n",
    "    </ul>"
   ]
  },
  {
   "cell_type": "markdown",
   "id": "f36eb34c-557e-494c-ad54-34e665175f82",
   "metadata": {},
   "source": [
    "<h1> <strong> B.1 - Problème de minimisation avec contraintes"
   ]
  },
  {
   "cell_type": "markdown",
   "id": "6c0cb1dc-b53d-4a0f-adab-f5a5ef62cdfe",
   "metadata": {},
   "source": [
    "<h3> <p>La même fonction pourrait être utilisée pour traiter un problème de minimisation imposant plusieurs contraintes sur les variables du problème.</p>\n",
    "    <p>  Imaginons à présent que le chiffre d'affaire de l'entreprise soit plutot perçu comme une fonction qui ne dépende pas uniquement du nombre de ses employés, de la qualité du service ou des produits qu'elle fourni à la société et de son budget marketing. </p>\n",
    "    <p>On notera $n$ le nombre d'enployé, $q$ la qualité du service ou des produits qu'elle fourni ou vend et $b$ son budget marketing </p>\n",
    "    <p> Supposons ensuite que son chiffre d'affaire soit modélisable par la fonction analytique suivante     \n",
    "    <p> $f(n, q, b) = 2.5n(b-60000-200q)^{2} - 2b(q-10+3n)^{2} +4b^{2}(7n-40-q)^{2} $ </p>\n",
    "    <p> La question se pose alors de savoir quelle est le chiffre d'affaire minimile que l'entreprise pourrait espérer avoir avec moins de 100 employés, un budget de  inférieur à 10000 € et avec une contrainte supplémentaire qui soit que\n",
    "\n",
    "$50np - b \\geq 0$\n",
    "    <p>  Toutes les contraintes du problèmes peuvent être resumées comme suit : </p>\n",
    "    \n",
    "$$100 - n \\geq 0$$\n",
    "$$10000 -b \\geq 0 $$\n",
    "$$50nq - b \\geq 0$$\n",
    "    <p>il faut aussi garder à l'esprit que $n$ et $b$ restent positifs et $q$ entre 0 et 100 </p>\n",
    "    \n",
    "$$n \\geq 0$$\n",
    "$$b \\geq 0$$\n",
    "$$0 \\leq q \\leq 100$$\n"
   ]
  },
  {
   "cell_type": "markdown",
   "id": "d65567d1-3a2e-4625-942a-09a4f3d37d5d",
   "metadata": {},
   "source": [
    "- ### <strong> La fonction chiffre d'affaire"
   ]
  },
  {
   "cell_type": "code",
   "execution_count": 13,
   "id": "f955c880-f117-4386-aeba-d9f4cd92bf8a",
   "metadata": {},
   "outputs": [],
   "source": [
    "def f ( x ) :\n",
    "    n , q , b = x\n",
    "    return 2.5*n*( b - 60000 -200*q)**2 -2*b*( q - 10 +3*n )**2 + 4*(b**2)*( 7*n - 40 -q)**2"
   ]
  },
  {
   "cell_type": "markdown",
   "id": "74b524d2-e703-42d2-b052-0edc2a77b7a5",
   "metadata": {},
   "source": [
    "- ### <strong> Les valeurs autorisées aux variables"
   ]
  },
  {
   "cell_type": "code",
   "execution_count": 14,
   "id": "04069c50-92de-4898-b016-bc0daa62ea10",
   "metadata": {},
   "outputs": [],
   "source": [
    "bornes = ((0, None), (0,20), (0, None))"
   ]
  },
  {
   "cell_type": "markdown",
   "id": "9313c8b9-83b4-460e-bdff-9db2621a0b96",
   "metadata": {},
   "source": [
    "- ### <strong> Les contraintes du problème"
   ]
  },
  {
   "cell_type": "code",
   "execution_count": 15,
   "id": "4b1b39c0-f7bb-4f64-b64b-4504906508d3",
   "metadata": {},
   "outputs": [],
   "source": [
    "contraintes =(\n",
    "    {'type': 'ineq', 'fun': lambda x:  200 - x[0]  },\n",
    "    {'type': 'ineq', 'fun': lambda x:  10000 - x[2]},\n",
    "    {'type': 'ineq', 'fun': lambda x:  50*x[0]*x[1] - x[2]},\n",
    ")"
   ]
  },
  {
   "cell_type": "code",
   "execution_count": 16,
   "id": "1d077a5b-273b-49ed-b89b-5f914d146f45",
   "metadata": {},
   "outputs": [
    {
     "name": "stderr",
     "output_type": "stream",
     "text": [
      "/home/brice_kengni_zanguim/anaconda3/envs/Fast_API/lib/python3.9/site-packages/scipy/optimize/_minimize.py:541: RuntimeWarning: Method Powell cannot handle constraints.\n",
      "  warn('Method %s cannot handle constraints.' % method,\n"
     ]
    }
   ],
   "source": [
    "resultat = minimize( f , (1 , 2 , 4000), constraints=contraintes, bounds=bornes, method = 'Powell')"
   ]
  },
  {
   "cell_type": "code",
   "execution_count": 17,
   "id": "8712a591-2d8a-43a0-a401-2ba216abda3e",
   "metadata": {},
   "outputs": [
    {
     "data": {
      "text/plain": [
       "   direc: array([[-1.14170300e-01, -4.22323865e-08,  1.46866525e+04],\n",
       "       [ 0.00000000e+00,  1.00000000e+00,  0.00000000e+00],\n",
       "       [ 1.40331260e-02,  4.11238519e-02,  2.54945429e+03]])\n",
       "     fun: -6517483.108781825\n",
       " message: 'Optimization terminated successfully.'\n",
       "    nfev: 1060\n",
       "     nit: 11\n",
       "  status: 0\n",
       " success: True\n",
       "       x: array([5.73676792e+00, 1.57400993e-01, 6.00378985e+04])"
      ]
     },
     "execution_count": 17,
     "metadata": {},
     "output_type": "execute_result"
    }
   ],
   "source": [
    "resultat"
   ]
  },
  {
   "cell_type": "markdown",
   "id": "12e33cb7-2aad-43c3-abfa-6edff756253d",
   "metadata": {},
   "source": [
    "<h1> <strong> C - Problème d'interpolation"
   ]
  },
  {
   "cell_type": "markdown",
   "id": "f0f55b7e-b502-4a23-baa9-69e7075de2d0",
   "metadata": {},
   "source": [
    "<h3> <p> Supposeez qu'en tant que statisticien, physicien, biologisteou ingénieur vous ayez pour mission de mesure une grandeur physique données qui est censée évoluer avec le temps. Au bout de 30 jours vous avez pu reccueillir un échantillon de 20 mesures qui se présentent comme suit </p>"
   ]
  },
  {
   "cell_type": "code",
   "execution_count": 18,
   "id": "bdcd9e28-0650-4e8c-ad99-afe5ac74c94b",
   "metadata": {
    "tags": []
   },
   "outputs": [
    {
     "data": {
      "image/png": "[encoded data removed]",
      "text/plain": [
       "<Figure size 700x500 with 1 Axes>"
      ]
     },
     "metadata": {},
     "output_type": "display_data"
    }
   ],
   "source": [
    "t_min, t_max = 0 , 30\n",
    "N = 20\n",
    "\n",
    "\n",
    "def mesure ( t ) : \n",
    "    base = 6*np.cos(2*np.pi*t*4/(t_max-t_min))*t**3.5/(1+  2*t + +t**3)\n",
    "    bruit = np.random.rand(t.size) - np.random.rand(t.size)\n",
    "    \n",
    "    return base + bruit\n",
    "\n",
    "t_sample = np.linspace(t_min , t_max, N)\n",
    "y_sample = mesure ( t_sample)\n",
    "\n",
    "\n",
    "plt.figure(figsize = (7,5))\n",
    "plt.scatter(t_sample , y_sample, label= \"Mesures obtenues\")\n",
    "plt.xlabel(\"Temps (Jours)\")\n",
    "plt.ylabel(\"Mesure \")\n",
    "plt.legend(loc=\"upper left\")\n",
    "plt.show()"
   ]
  },
  {
   "cell_type": "markdown",
   "id": "21150e72-fdf5-4c24-b12f-46fcedaac7fa",
   "metadata": {},
   "source": [
    "<h3> <p> Votre objectif à présent est de pouvoir retrouver la courbe générale de la fonction qui permet de retrouver ces valeurs mesurées si possible dans le but de pouvoir prédire des valeurs intermédiaire que vous avez peu être manqué le vintième ou le sixième jour de votre mesure peu être parceque vous aviez oublié, ou vous avez effectué la mesure vous vous l'avez perdu entre temps. </p>\n",
    "    <p> Le module $interpolate$ de $scipy$ offre la fonction $interp1d$ qui permet de réaliser une telle tâche. </p>"
   ]
  },
  {
   "cell_type": "code",
   "execution_count": 19,
   "id": "b4f3fb3d-91f4-48b7-9a99-9b4295946a4e",
   "metadata": {},
   "outputs": [],
   "source": [
    "from scipy.interpolate import interp1d"
   ]
  },
  {
   "cell_type": "code",
   "execution_count": 20,
   "id": "93271f22-f095-4b6f-aa52-3105e32fc02d",
   "metadata": {
    "scrolled": true,
    "tags": []
   },
   "outputs": [
    {
     "data": {
      "text/plain": [
       "\u001b[0;31mInit signature:\u001b[0m\n",
       "\u001b[0minterp1d\u001b[0m\u001b[0;34m(\u001b[0m\u001b[0;34m\u001b[0m\n",
       "\u001b[0;34m\u001b[0m    \u001b[0mx\u001b[0m\u001b[0;34m,\u001b[0m\u001b[0;34m\u001b[0m\n",
       "\u001b[0;34m\u001b[0m    \u001b[0my\u001b[0m\u001b[0;34m,\u001b[0m\u001b[0;34m\u001b[0m\n",
       "\u001b[0;34m\u001b[0m    \u001b[0mkind\u001b[0m\u001b[0;34m=\u001b[0m\u001b[0;34m'linear'\u001b[0m\u001b[0;34m,\u001b[0m\u001b[0;34m\u001b[0m\n",
       "\u001b[0;34m\u001b[0m    \u001b[0maxis\u001b[0m\u001b[0;34m=\u001b[0m\u001b[0;34m-\u001b[0m\u001b[0;36m1\u001b[0m\u001b[0;34m,\u001b[0m\u001b[0;34m\u001b[0m\n",
       "\u001b[0;34m\u001b[0m    \u001b[0mcopy\u001b[0m\u001b[0;34m=\u001b[0m\u001b[0;32mTrue\u001b[0m\u001b[0;34m,\u001b[0m\u001b[0;34m\u001b[0m\n",
       "\u001b[0;34m\u001b[0m    \u001b[0mbounds_error\u001b[0m\u001b[0;34m=\u001b[0m\u001b[0;32mNone\u001b[0m\u001b[0;34m,\u001b[0m\u001b[0;34m\u001b[0m\n",
       "\u001b[0;34m\u001b[0m    \u001b[0mfill_value\u001b[0m\u001b[0;34m=\u001b[0m\u001b[0mnan\u001b[0m\u001b[0;34m,\u001b[0m\u001b[0;34m\u001b[0m\n",
       "\u001b[0;34m\u001b[0m    \u001b[0massume_sorted\u001b[0m\u001b[0;34m=\u001b[0m\u001b[0;32mFalse\u001b[0m\u001b[0;34m,\u001b[0m\u001b[0;34m\u001b[0m\n",
       "\u001b[0;34m\u001b[0m\u001b[0;34m)\u001b[0m\u001b[0;34m\u001b[0m\u001b[0;34m\u001b[0m\u001b[0m\n",
       "\u001b[0;31mDocstring:\u001b[0m     \n",
       "Interpolate a 1-D function.\n",
       "\n",
       "`x` and `y` are arrays of values used to approximate some function f:\n",
       "``y = f(x)``. This class returns a function whose call method uses\n",
       "interpolation to find the value of new points.\n",
       "\n",
       "Parameters\n",
       "----------\n",
       "x : (N,) array_like\n",
       "    A 1-D array of real values.\n",
       "y : (...,N,...) array_like\n",
       "    A N-D array of real values. The length of `y` along the interpolation\n",
       "    axis must be equal to the length of `x`.\n",
       "kind : str or int, optional\n",
       "    Specifies the kind of interpolation as a string or as an integer\n",
       "    specifying the order of the spline interpolator to use.\n",
       "    The string has to be one of 'linear', 'nearest', 'nearest-up', 'zero',\n",
       "    'slinear', 'quadratic', 'cubic', 'previous', or 'next'. 'zero',\n",
       "    'slinear', 'quadratic' and 'cubic' refer to a spline interpolation of\n",
       "    zeroth, first, second or third order; 'previous' and 'next' simply\n",
       "    return the previous or next value of the point; 'nearest-up' and\n",
       "    'nearest' differ when interpolating half-integers (e.g. 0.5, 1.5)\n",
       "    in that 'nearest-up' rounds up and 'nearest' rounds down. Default\n",
       "    is 'linear'.\n",
       "axis : int, optional\n",
       "    Specifies the axis of `y` along which to interpolate.\n",
       "    Interpolation defaults to the last axis of `y`.\n",
       "copy : bool, optional\n",
       "    If True, the class makes internal copies of x and y.\n",
       "    If False, references to `x` and `y` are used. The default is to copy.\n",
       "bounds_error : bool, optional\n",
       "    If True, a ValueError is raised any time interpolation is attempted on\n",
       "    a value outside of the range of x (where extrapolation is\n",
       "    necessary). If False, out of bounds values are assigned `fill_value`.\n",
       "    By default, an error is raised unless ``fill_value=\"extrapolate\"``.\n",
       "fill_value : array-like or (array-like, array_like) or \"extrapolate\", optional\n",
       "    - if a ndarray (or float), this value will be used to fill in for\n",
       "      requested points outside of the data range. If not provided, then\n",
       "      the default is NaN. The array-like must broadcast properly to the\n",
       "      dimensions of the non-interpolation axes.\n",
       "    - If a two-element tuple, then the first element is used as a\n",
       "      fill value for ``x_new < x[0]`` and the second element is used for\n",
       "      ``x_new > x[-1]``. Anything that is not a 2-element tuple (e.g.,\n",
       "      list or ndarray, regardless of shape) is taken to be a single\n",
       "      array-like argument meant to be used for both bounds as\n",
       "      ``below, above = fill_value, fill_value``.\n",
       "\n",
       "      .. versionadded:: 0.17.0\n",
       "    - If \"extrapolate\", then points outside the data range will be\n",
       "      extrapolated.\n",
       "\n",
       "      .. versionadded:: 0.17.0\n",
       "assume_sorted : bool, optional\n",
       "    If False, values of `x` can be in any order and they are sorted first.\n",
       "    If True, `x` has to be an array of monotonically increasing values.\n",
       "\n",
       "Attributes\n",
       "----------\n",
       "fill_value\n",
       "\n",
       "Methods\n",
       "-------\n",
       "__call__\n",
       "\n",
       "See Also\n",
       "--------\n",
       "splrep, splev\n",
       "    Spline interpolation/smoothing based on FITPACK.\n",
       "UnivariateSpline : An object-oriented wrapper of the FITPACK routines.\n",
       "interp2d : 2-D interpolation\n",
       "\n",
       "Notes\n",
       "-----\n",
       "Calling `interp1d` with NaNs present in input values results in\n",
       "undefined behaviour.\n",
       "\n",
       "Input values `x` and `y` must be convertible to `float` values like\n",
       "`int` or `float`.\n",
       "\n",
       "If the values in `x` are not unique, the resulting behavior is\n",
       "undefined and specific to the choice of `kind`, i.e., changing\n",
       "`kind` will change the behavior for duplicates.\n",
       "\n",
       "\n",
       "Examples\n",
       "--------\n",
       ">>> import matplotlib.pyplot as plt\n",
       ">>> from scipy import interpolate\n",
       ">>> x = np.arange(0, 10)\n",
       ">>> y = np.exp(-x/3.0)\n",
       ">>> f = interpolate.interp1d(x, y)\n",
       "\n",
       ">>> xnew = np.arange(0, 9, 0.1)\n",
       ">>> ynew = f(xnew)   # use interpolation function returned by `interp1d`\n",
       ">>> plt.plot(x, y, 'o', xnew, ynew, '-')\n",
       ">>> plt.show()\n",
       "\u001b[0;31mInit docstring:\u001b[0m Initialize a 1-D linear interpolation class.\n",
       "\u001b[0;31mFile:\u001b[0m           ~/anaconda3/envs/Fast_API/lib/python3.9/site-packages/scipy/interpolate/interpolate.py\n",
       "\u001b[0;31mType:\u001b[0m           type\n",
       "\u001b[0;31mSubclasses:\u001b[0m     \n"
      ]
     },
     "metadata": {},
     "output_type": "display_data"
    }
   ],
   "source": [
    "interp1d?"
   ]
  },
  {
   "cell_type": "markdown",
   "id": "f56b3ed4-db83-44a6-bba3-7b0251794648",
   "metadata": {},
   "source": [
    "<h1> <strong> C.1 - Interpolation linéaire"
   ]
  },
  {
   "cell_type": "markdown",
   "id": "e7b175fb-d498-4c3c-b590-0d959d6ffaf8",
   "metadata": {},
   "source": [
    "<h3> Dans un premier temps on va réaliser une interpolation linéaire qui consiste à joindre deux points adjacents de la mesure par une droite"
   ]
  },
  {
   "cell_type": "code",
   "execution_count": 21,
   "id": "09665338-9e8f-4718-a417-80b2182d455f",
   "metadata": {},
   "outputs": [],
   "source": [
    "t = np.linspace( t_min , t_max , 200)"
   ]
  },
  {
   "cell_type": "code",
   "execution_count": 22,
   "id": "d36b60c2-3d1a-4798-bf5f-439948319309",
   "metadata": {},
   "outputs": [],
   "source": [
    "linear_interpolate = interp1d( t_sample, y_sample, kind='linear')\n",
    "y_linear = linear_interpolate( t )"
   ]
  },
  {
   "cell_type": "code",
   "execution_count": 23,
   "id": "629d732c-e840-41a8-8c0c-ba46b43dd143",
   "metadata": {},
   "outputs": [
    {
     "data": {
      "image/png": "[encoded data removed]",
      "text/plain": [
       "<Figure size 800x500 with 1 Axes>"
      ]
     },
     "metadata": {},
     "output_type": "display_data"
    }
   ],
   "source": [
    "plt.figure(figsize=(8,5))\n",
    "\n",
    "plt.scatter(t_sample , y_sample , label='mesures')\n",
    "plt.plot(t , y_linear , label = 'Lin interpol')\n",
    "\n",
    "plt.legend(loc=\"upper left\")\n",
    "plt.ylim(y_linear.min(), y_linear.max()+1)\n",
    "plt.xlim(t.min(), t.max()+5)\n",
    "plt.show()"
   ]
  },
  {
   "cell_type": "markdown",
   "id": "080e1285-bd70-4330-a023-1821908b2f53",
   "metadata": {},
   "source": [
    "<h3> Comme on peut le voir la forme de la courbe d'interpolation ne corresponds pas visuellement à ce qu'on pourrait considérer comme une fonction analytique car cette dernière est une fonction continues par morceauux qui est définie sur plusieurs sous domaines séparéments; d'où la necessité d'une méthode d'interpolation plus adaptée"
   ]
  },
  {
   "cell_type": "markdown",
   "id": "f9540d4e-eddc-463e-b19b-5cbc54968203",
   "metadata": {},
   "source": [
    "<h1> <strong> C.2 - Interpolation cubique"
   ]
  },
  {
   "cell_type": "code",
   "execution_count": 24,
   "id": "57a1f3f7-a0a1-40a2-a081-7322996f8330",
   "metadata": {},
   "outputs": [],
   "source": [
    "linear_interpolate = interp1d( t_sample, y_sample, kind='cubic')\n",
    "y_cubic = linear_interpolate( t )"
   ]
  },
  {
   "cell_type": "code",
   "execution_count": 25,
   "id": "f9cf17c1-0f02-479e-bee0-f68d4427320f",
   "metadata": {},
   "outputs": [
    {
     "data": {
      "image/png": "[encoded data removed]",
      "text/plain": [
       "<Figure size 800x500 with 1 Axes>"
      ]
     },
     "metadata": {},
     "output_type": "display_data"
    }
   ],
   "source": [
    "plt.figure(figsize=(8,5))\n",
    "\n",
    "plt.scatter(t_sample , y_sample , label='mesures')\n",
    "plt.plot(t , y_cubic , label = 'cubic interpol')\n",
    "plt.plot(t , y_linear , label = 'Lin interpol')\n",
    "\n",
    "plt.legend(loc=\"upper left\")\n",
    "plt.ylim(y_cubic.min(), y_cubic.max()+2)\n",
    "plt.xlim(t.min(), t.max()+5)\n",
    "plt.show()"
   ]
  },
  {
   "cell_type": "markdown",
   "id": "b3634c41-0687-44f5-92c0-bdc8672a8e11",
   "metadata": {},
   "source": [
    "<h3> Avec une interpolation cubique on a une courbe qui est un peu plus lisse que celle avec une interpolation simplement linéaire. D'autres méthodes peuvent être utilisées"
   ]
  },
  {
   "cell_type": "markdown",
   "id": "440d8a04-d535-4ccf-8cca-50b59aa9be3c",
   "metadata": {},
   "source": [
    "<h1> <strong> C.3 - Interpolation quadratique"
   ]
  },
  {
   "cell_type": "code",
   "execution_count": 26,
   "id": "da930486-7f06-4fbb-9146-217bbd43c3e6",
   "metadata": {},
   "outputs": [],
   "source": [
    "linear_interpolate = interp1d( t_sample, y_sample, kind='quadratic')\n",
    "y_quad = linear_interpolate( t )"
   ]
  },
  {
   "cell_type": "code",
   "execution_count": 27,
   "id": "61f87f28-fb9c-440f-a606-6a097a0c3560",
   "metadata": {},
   "outputs": [
    {
     "data": {
      "image/png": "[encoded data removed]",
      "text/plain": [
       "<Figure size 800x500 with 1 Axes>"
      ]
     },
     "metadata": {},
     "output_type": "display_data"
    }
   ],
   "source": [
    "plt.figure(figsize=(8,5))\n",
    "\n",
    "plt.scatter(t_sample , y_sample , label='mesures')\n",
    "plt.plot(t , y_cubic , label = 'cubic interpol')\n",
    "plt.plot(t , y_quad , label = 'quad interpol')\n",
    "\n",
    "plt.legend(loc=\"upper left\")\n",
    "plt.ylim(y_quad.min(), y_quad.max())\n",
    "plt.xlim(t.min(), t.max())\n",
    "plt.show()"
   ]
  },
  {
   "cell_type": "markdown",
   "id": "8c02b78f-a8ad-4976-97f5-0dde8d5e3aa2",
   "metadata": {},
   "source": [
    "<h1> <strong> D - Problème d'interpolation"
   ]
  },
  {
   "cell_type": "code",
   "execution_count": null,
   "id": "8ecf85b4-2f12-45d0-bd60-e502784ca5b1",
   "metadata": {},
   "outputs": [],
   "source": []
  },
  {
   "cell_type": "code",
   "execution_count": null,
   "id": "8e39b13c-e7b3-4999-9553-1af4ca599ff5",
   "metadata": {},
   "outputs": [],
   "source": []
  },
  {
   "cell_type": "code",
   "execution_count": null,
   "id": "e41d75bd-8512-47e9-b0c8-4a60c9ff7f26",
   "metadata": {},
   "outputs": [],
   "source": []
  },
  {
   "cell_type": "code",
   "execution_count": null,
   "id": "80956f0a-03ae-404f-95ac-e5ab10c53dc0",
   "metadata": {},
   "outputs": [],
   "source": []
  },
  {
   "cell_type": "code",
   "execution_count": null,
   "id": "1ed679f5-6984-4370-9fe6-5532810fd8b3",
   "metadata": {},
   "outputs": [],
   "source": []
  },
  {
   "cell_type": "code",
   "execution_count": null,
   "id": "13661a49-d9af-4ba1-8b4a-3744d075a0e8",
   "metadata": {},
   "outputs": [],
   "source": []
  },
  {
   "cell_type": "code",
   "execution_count": null,
   "id": "0aea5b65-eb8e-4914-ac29-1f3f6280d000",
   "metadata": {},
   "outputs": [],
   "source": []
  },
  {
   "cell_type": "code",
   "execution_count": null,
   "id": "8ed3b4d0-1dcf-4cab-a9b1-2a7387a06947",
   "metadata": {},
   "outputs": [],
   "source": []
  },
  {
   "cell_type": "code",
   "execution_count": null,
   "id": "167fc97b-be7f-4a1d-90fe-9c39df18793d",
   "metadata": {},
   "outputs": [],
   "source": []
  },
  {
   "cell_type": "code",
   "execution_count": null,
   "id": "473b5563-8443-4df2-a752-db47dc8e0931",
   "metadata": {},
   "outputs": [],
   "source": []
  },
  {
   "cell_type": "code",
   "execution_count": null,
   "id": "b114a853-807c-43a2-9e7b-d2ae92265b69",
   "metadata": {},
   "outputs": [],
   "source": []
  },
  {
   "cell_type": "code",
   "execution_count": null,
   "id": "b024886f-ef65-4281-8b01-14a14e1d7a84",
   "metadata": {},
   "outputs": [],
   "source": []
  },
  {
   "cell_type": "code",
   "execution_count": null,
   "id": "02a0cbd6-ca11-4fe4-93ed-b27b8d9c5ebd",
   "metadata": {},
   "outputs": [],
   "source": []
  },
  {
   "cell_type": "code",
   "execution_count": null,
   "id": "1ec57747-356b-4619-ad00-6d46c212665f",
   "metadata": {},
   "outputs": [],
   "source": []
  },
  {
   "cell_type": "code",
   "execution_count": null,
   "id": "cc92fc1f-2acc-4ae2-bf53-4209a42e17ff",
   "metadata": {},
   "outputs": [],
   "source": []
  },
  {
   "cell_type": "code",
   "execution_count": null,
   "id": "8ad9c849-b60d-4b94-a360-9a9536b734d0",
   "metadata": {},
   "outputs": [],
   "source": []
  },
  {
   "cell_type": "code",
   "execution_count": null,
   "id": "eb838671-69b8-4b12-b884-d74f7eb73795",
   "metadata": {},
   "outputs": [],
   "source": []
  },
  {
   "cell_type": "code",
   "execution_count": null,
   "id": "085211bd-bb8e-4e1c-91c8-3366d4ead6c6",
   "metadata": {},
   "outputs": [],
   "source": []
  },
  {
   "cell_type": "code",
   "execution_count": null,
   "id": "23fe8acf-e8ec-4f3f-a31e-eabe3aec102b",
   "metadata": {},
   "outputs": [],
   "source": []
  },
  {
   "cell_type": "code",
   "execution_count": null,
   "id": "7002de18-465a-4034-bc34-120e117151d2",
   "metadata": {},
   "outputs": [],
   "source": []
  },
  {
   "cell_type": "markdown",
   "id": "2d58bda1-4af5-4c90-b732-63e62a18e3dc",
   "metadata": {},
   "source": [
    "---\n",
    "\n",
    "- ## <strong> Authors </strong>\n",
    "\n",
    " #### <ul> <p> - <strong><a href=\"https://www.linkedin.com/in/brice-kengni-zanguim/\" target=\"_blank\">Brice KENGNI ZANGUIM :</a> </strong></p> <ul> Artificial Intelligence Engeneer at home and holds a PhD in Nano-physic. His research focused on using <strong>Machine Learning, Deep Learning, Signal Processing, Natural langage Processing, Computer Vision and so one</strong> to figure out how the world behave and impact human cognition. Brice KENGNI ZANGUIM has been working at home on mastering his own AI projects in many domains while seeking for a position in a company. </ul></ul>\n",
    "\n",
    "\n",
    "---\n",
    "\n",
    "- ## <strong> Other Contributors </strong>\n",
    "\n",
    "#### <ul>None</ul>\n",
    "\n",
    "---\n",
    "\n",
    "- ## <strong> Change Log </strong>\n",
    "\n",
    "|  Date (DD-MM-YYYY) |  Version | Changed By  |  Change Description |  Purpose  |\n",
    "|---|---|---|---|---|\n",
    "| 19- 03 - 2023 | 1.0 | Brice KENGNI ZANGUIM | Updated the file | Mem,save |\n",
    "|-|-|-|-|\n",
    "|   |   |   |   |   |\n",
    "\n",
    "### <h3 align=\"center\"> © BKZ Corporation 2023. All rights reserved. <h3/>\n",
    "---"
   ]
  }
 ],
 "metadata": {
  "kernelspec": {
   "display_name": "Python 3 (ipykernel)",
   "language": "python",
   "name": "python3"
  },
  "language_info": {
   "codemirror_mode": {
    "name": "ipython",
    "version": 3
   },
   "file_extension": ".py",
   "mimetype": "text/x-python",
   "name": "python",
   "nbconvert_exporter": "python",
   "pygments_lexer": "ipython3",
   "version": "3.9.15"
  },
  "widgets": {
   "application/vnd.jupyter.widget-state+json": {
    "state": {},
    "version_major": 2,
    "version_minor": 0
   }
  }
 },
 "nbformat": 4,
 "nbformat_minor": 5
}
